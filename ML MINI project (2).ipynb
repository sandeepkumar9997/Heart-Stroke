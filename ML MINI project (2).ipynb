{
 "cells": [
  {
   "cell_type": "markdown",
   "id": "c029e9db",
   "metadata": {},
   "source": [
    "# ML MINI PROJECT"
   ]
  },
  {
   "cell_type": "code",
   "execution_count": 1,
   "id": "fdf3866c",
   "metadata": {},
   "outputs": [],
   "source": [
    "# importing required libraries\n",
    "import pandas as pd \n",
    "import numpy as np \n",
    "import seaborn as sns \n",
    "import matplotlib.pyplot as plt \n",
    "from warnings import filterwarnings\n",
    "filterwarnings('ignore')"
   ]
  },
  {
   "cell_type": "markdown",
   "id": "72c5e626",
   "metadata": {},
   "source": [
    "Data Dictionary -\n",
    "\n",
    "a)Id - Unique Id\n",
    "\n",
    "b)gender\n",
    "\n",
    "c)age\n",
    "\n",
    "d)hypertension - Binary Feature\n",
    "\n",
    "e)Heart_disease - Binary Feature\n",
    "\n",
    "f)Ever_married - Has the patient ever been married\n",
    "\n",
    "g)Work_type - Work type of a patient\n",
    "\n",
    "h)Residency_type - Residency type of patient\n",
    "\n",
    "i)avg_glucose_level - Average Glucose level in the blood\n",
    "\n",
    "j)bmi - Body mass Index\n",
    "\n",
    "k)smoking_status - Smoking status of the patient\n",
    "\n",
    "l)stroke - stroke event"
   ]
  },
  {
   "cell_type": "code",
   "execution_count": 2,
   "id": "17db29c1",
   "metadata": {
    "scrolled": true
   },
   "outputs": [
    {
     "data": {
      "text/html": [
       "<div>\n",
       "<style scoped>\n",
       "    .dataframe tbody tr th:only-of-type {\n",
       "        vertical-align: middle;\n",
       "    }\n",
       "\n",
       "    .dataframe tbody tr th {\n",
       "        vertical-align: top;\n",
       "    }\n",
       "\n",
       "    .dataframe thead th {\n",
       "        text-align: right;\n",
       "    }\n",
       "</style>\n",
       "<table border=\"1\" class=\"dataframe\">\n",
       "  <thead>\n",
       "    <tr style=\"text-align: right;\">\n",
       "      <th></th>\n",
       "      <th>id</th>\n",
       "      <th>gender</th>\n",
       "      <th>age</th>\n",
       "      <th>hypertension</th>\n",
       "      <th>heart_disease</th>\n",
       "      <th>ever_married</th>\n",
       "      <th>work_type</th>\n",
       "      <th>Residence_type</th>\n",
       "      <th>avg_glucose_level</th>\n",
       "      <th>bmi</th>\n",
       "      <th>smoking_status</th>\n",
       "      <th>stroke</th>\n",
       "    </tr>\n",
       "  </thead>\n",
       "  <tbody>\n",
       "    <tr>\n",
       "      <th>0</th>\n",
       "      <td>9046</td>\n",
       "      <td>Male</td>\n",
       "      <td>67.0</td>\n",
       "      <td>0</td>\n",
       "      <td>1</td>\n",
       "      <td>Yes</td>\n",
       "      <td>Private</td>\n",
       "      <td>Urban</td>\n",
       "      <td>228.69</td>\n",
       "      <td>36.6</td>\n",
       "      <td>formerly smoked</td>\n",
       "      <td>1</td>\n",
       "    </tr>\n",
       "    <tr>\n",
       "      <th>1</th>\n",
       "      <td>51676</td>\n",
       "      <td>Female</td>\n",
       "      <td>61.0</td>\n",
       "      <td>0</td>\n",
       "      <td>0</td>\n",
       "      <td>Yes</td>\n",
       "      <td>Self-employed</td>\n",
       "      <td>Rural</td>\n",
       "      <td>202.21</td>\n",
       "      <td>NaN</td>\n",
       "      <td>never smoked</td>\n",
       "      <td>1</td>\n",
       "    </tr>\n",
       "    <tr>\n",
       "      <th>2</th>\n",
       "      <td>31112</td>\n",
       "      <td>Male</td>\n",
       "      <td>80.0</td>\n",
       "      <td>0</td>\n",
       "      <td>1</td>\n",
       "      <td>Yes</td>\n",
       "      <td>Private</td>\n",
       "      <td>Rural</td>\n",
       "      <td>105.92</td>\n",
       "      <td>32.5</td>\n",
       "      <td>never smoked</td>\n",
       "      <td>1</td>\n",
       "    </tr>\n",
       "    <tr>\n",
       "      <th>3</th>\n",
       "      <td>60182</td>\n",
       "      <td>Female</td>\n",
       "      <td>49.0</td>\n",
       "      <td>0</td>\n",
       "      <td>0</td>\n",
       "      <td>Yes</td>\n",
       "      <td>Private</td>\n",
       "      <td>Urban</td>\n",
       "      <td>171.23</td>\n",
       "      <td>34.4</td>\n",
       "      <td>smokes</td>\n",
       "      <td>1</td>\n",
       "    </tr>\n",
       "    <tr>\n",
       "      <th>4</th>\n",
       "      <td>1665</td>\n",
       "      <td>Female</td>\n",
       "      <td>79.0</td>\n",
       "      <td>1</td>\n",
       "      <td>0</td>\n",
       "      <td>Yes</td>\n",
       "      <td>Self-employed</td>\n",
       "      <td>Rural</td>\n",
       "      <td>174.12</td>\n",
       "      <td>24.0</td>\n",
       "      <td>never smoked</td>\n",
       "      <td>1</td>\n",
       "    </tr>\n",
       "    <tr>\n",
       "      <th>5</th>\n",
       "      <td>56669</td>\n",
       "      <td>Male</td>\n",
       "      <td>81.0</td>\n",
       "      <td>0</td>\n",
       "      <td>0</td>\n",
       "      <td>Yes</td>\n",
       "      <td>Private</td>\n",
       "      <td>Urban</td>\n",
       "      <td>186.21</td>\n",
       "      <td>29.0</td>\n",
       "      <td>formerly smoked</td>\n",
       "      <td>1</td>\n",
       "    </tr>\n",
       "    <tr>\n",
       "      <th>6</th>\n",
       "      <td>53882</td>\n",
       "      <td>Male</td>\n",
       "      <td>74.0</td>\n",
       "      <td>1</td>\n",
       "      <td>1</td>\n",
       "      <td>Yes</td>\n",
       "      <td>Private</td>\n",
       "      <td>Rural</td>\n",
       "      <td>70.09</td>\n",
       "      <td>27.4</td>\n",
       "      <td>never smoked</td>\n",
       "      <td>1</td>\n",
       "    </tr>\n",
       "    <tr>\n",
       "      <th>7</th>\n",
       "      <td>10434</td>\n",
       "      <td>Female</td>\n",
       "      <td>69.0</td>\n",
       "      <td>0</td>\n",
       "      <td>0</td>\n",
       "      <td>No</td>\n",
       "      <td>Private</td>\n",
       "      <td>Urban</td>\n",
       "      <td>94.39</td>\n",
       "      <td>22.8</td>\n",
       "      <td>never smoked</td>\n",
       "      <td>1</td>\n",
       "    </tr>\n",
       "    <tr>\n",
       "      <th>8</th>\n",
       "      <td>27419</td>\n",
       "      <td>Female</td>\n",
       "      <td>59.0</td>\n",
       "      <td>0</td>\n",
       "      <td>0</td>\n",
       "      <td>Yes</td>\n",
       "      <td>Private</td>\n",
       "      <td>Rural</td>\n",
       "      <td>76.15</td>\n",
       "      <td>NaN</td>\n",
       "      <td>Unknown</td>\n",
       "      <td>1</td>\n",
       "    </tr>\n",
       "    <tr>\n",
       "      <th>9</th>\n",
       "      <td>60491</td>\n",
       "      <td>Female</td>\n",
       "      <td>78.0</td>\n",
       "      <td>0</td>\n",
       "      <td>0</td>\n",
       "      <td>Yes</td>\n",
       "      <td>Private</td>\n",
       "      <td>Urban</td>\n",
       "      <td>58.57</td>\n",
       "      <td>24.2</td>\n",
       "      <td>Unknown</td>\n",
       "      <td>1</td>\n",
       "    </tr>\n",
       "  </tbody>\n",
       "</table>\n",
       "</div>"
      ],
      "text/plain": [
       "      id  gender   age  hypertension  heart_disease ever_married  \\\n",
       "0   9046    Male  67.0             0              1          Yes   \n",
       "1  51676  Female  61.0             0              0          Yes   \n",
       "2  31112    Male  80.0             0              1          Yes   \n",
       "3  60182  Female  49.0             0              0          Yes   \n",
       "4   1665  Female  79.0             1              0          Yes   \n",
       "5  56669    Male  81.0             0              0          Yes   \n",
       "6  53882    Male  74.0             1              1          Yes   \n",
       "7  10434  Female  69.0             0              0           No   \n",
       "8  27419  Female  59.0             0              0          Yes   \n",
       "9  60491  Female  78.0             0              0          Yes   \n",
       "\n",
       "       work_type Residence_type  avg_glucose_level   bmi   smoking_status  \\\n",
       "0        Private          Urban             228.69  36.6  formerly smoked   \n",
       "1  Self-employed          Rural             202.21   NaN     never smoked   \n",
       "2        Private          Rural             105.92  32.5     never smoked   \n",
       "3        Private          Urban             171.23  34.4           smokes   \n",
       "4  Self-employed          Rural             174.12  24.0     never smoked   \n",
       "5        Private          Urban             186.21  29.0  formerly smoked   \n",
       "6        Private          Rural              70.09  27.4     never smoked   \n",
       "7        Private          Urban              94.39  22.8     never smoked   \n",
       "8        Private          Rural              76.15   NaN          Unknown   \n",
       "9        Private          Urban              58.57  24.2          Unknown   \n",
       "\n",
       "   stroke  \n",
       "0       1  \n",
       "1       1  \n",
       "2       1  \n",
       "3       1  \n",
       "4       1  \n",
       "5       1  \n",
       "6       1  \n",
       "7       1  \n",
       "8       1  \n",
       "9       1  "
      ]
     },
     "execution_count": 2,
     "metadata": {},
     "output_type": "execute_result"
    }
   ],
   "source": [
    "df = pd.read_csv(\"healthcare-dataset-stroke-data.csv\")\n",
    "df.head(10)\n"
   ]
  },
  {
   "cell_type": "code",
   "execution_count": 3,
   "id": "52632afb",
   "metadata": {
    "scrolled": true
   },
   "outputs": [
    {
     "data": {
      "text/plain": [
       "(5110, 12)"
      ]
     },
     "execution_count": 3,
     "metadata": {},
     "output_type": "execute_result"
    }
   ],
   "source": [
    "df.shape"
   ]
  },
  {
   "cell_type": "code",
   "execution_count": 4,
   "id": "fb0cbc02",
   "metadata": {
    "scrolled": true
   },
   "outputs": [
    {
     "data": {
      "text/plain": [
       "id                     0\n",
       "gender                 0\n",
       "age                    0\n",
       "hypertension           0\n",
       "heart_disease          0\n",
       "ever_married           0\n",
       "work_type              0\n",
       "Residence_type         0\n",
       "avg_glucose_level      0\n",
       "bmi                  201\n",
       "smoking_status         0\n",
       "stroke                 0\n",
       "dtype: int64"
      ]
     },
     "execution_count": 4,
     "metadata": {},
     "output_type": "execute_result"
    }
   ],
   "source": [
    "df.isna().sum()\n",
    "\n",
    "# there are 201 missing values in bmi column"
   ]
  },
  {
   "cell_type": "code",
   "execution_count": 5,
   "id": "af6aa3f6",
   "metadata": {},
   "outputs": [
    {
     "data": {
      "text/plain": [
       "id                   0.000000\n",
       "gender               0.000000\n",
       "age                  0.000000\n",
       "hypertension         0.000000\n",
       "heart_disease        0.000000\n",
       "ever_married         0.000000\n",
       "work_type            0.000000\n",
       "Residence_type       0.000000\n",
       "avg_glucose_level    0.000000\n",
       "bmi                  3.933464\n",
       "smoking_status       0.000000\n",
       "stroke               0.000000\n",
       "dtype: float64"
      ]
     },
     "execution_count": 5,
     "metadata": {},
     "output_type": "execute_result"
    }
   ],
   "source": [
    "df.isna().sum()/len(df)*100"
   ]
  },
  {
   "cell_type": "code",
   "execution_count": 6,
   "id": "b7dfc28d",
   "metadata": {},
   "outputs": [
    {
     "data": {
      "text/plain": [
       "<AxesSubplot:xlabel='bmi', ylabel='Density'>"
      ]
     },
     "execution_count": 6,
     "metadata": {},
     "output_type": "execute_result"
    },
    {
     "data": {
      "image/png": "[encoded data removed]",
      "text/plain": [
       "<Figure size 432x288 with 1 Axes>"
      ]
     },
     "metadata": {
      "needs_background": "light"
     },
     "output_type": "display_data"
    }
   ],
   "source": [
    "# checking the distribution of bmi\n",
    "\n",
    "sns.distplot(df[\"bmi\"])\n",
    "\n",
    "# it is right skewed "
   ]
  },
  {
   "cell_type": "code",
   "execution_count": 7,
   "id": "325c68ab",
   "metadata": {},
   "outputs": [
    {
     "data": {
      "text/plain": [
       "28.1"
      ]
     },
     "execution_count": 7,
     "metadata": {},
     "output_type": "execute_result"
    }
   ],
   "source": [
    "df['bmi'].median()"
   ]
  },
  {
   "cell_type": "code",
   "execution_count": 8,
   "id": "dd2cf87c",
   "metadata": {},
   "outputs": [],
   "source": [
    "df[\"bmi\"].fillna(28.1,inplace=True)"
   ]
  },
  {
   "cell_type": "code",
   "execution_count": 9,
   "id": "170a6aa6",
   "metadata": {},
   "outputs": [
    {
     "data": {
      "text/plain": [
       "id                   0.0\n",
       "gender               0.0\n",
       "age                  0.0\n",
       "hypertension         0.0\n",
       "heart_disease        0.0\n",
       "ever_married         0.0\n",
       "work_type            0.0\n",
       "Residence_type       0.0\n",
       "avg_glucose_level    0.0\n",
       "bmi                  0.0\n",
       "smoking_status       0.0\n",
       "stroke               0.0\n",
       "dtype: float64"
      ]
     },
     "execution_count": 9,
     "metadata": {},
     "output_type": "execute_result"
    }
   ],
   "source": [
    "df.isna().sum()/len(df)*100  ## no null values"
   ]
  },
  {
   "cell_type": "code",
   "execution_count": 10,
   "id": "0c75b7c3",
   "metadata": {
    "scrolled": true
   },
   "outputs": [
    {
     "name": "stdout",
     "output_type": "stream",
     "text": [
      "<class 'pandas.core.frame.DataFrame'>\n",
      "RangeIndex: 5110 entries, 0 to 5109\n",
      "Data columns (total 12 columns):\n",
      " #   Column             Non-Null Count  Dtype  \n",
      "---  ------             --------------  -----  \n",
      " 0   id                 5110 non-null   int64  \n",
      " 1   gender             5110 non-null   object \n",
      " 2   age                5110 non-null   float64\n",
      " 3   hypertension       5110 non-null   int64  \n",
      " 4   heart_disease      5110 non-null   int64  \n",
      " 5   ever_married       5110 non-null   object \n",
      " 6   work_type          5110 non-null   object \n",
      " 7   Residence_type     5110 non-null   object \n",
      " 8   avg_glucose_level  5110 non-null   float64\n",
      " 9   bmi                5110 non-null   float64\n",
      " 10  smoking_status     5110 non-null   object \n",
      " 11  stroke             5110 non-null   int64  \n",
      "dtypes: float64(3), int64(4), object(5)\n",
      "memory usage: 479.2+ KB\n"
     ]
    }
   ],
   "source": [
    "df.info()"
   ]
  },
  {
   "cell_type": "code",
   "execution_count": 11,
   "id": "7fa21b48",
   "metadata": {
    "scrolled": true
   },
   "outputs": [
    {
     "data": {
      "text/html": [
       "<div>\n",
       "<style scoped>\n",
       "    .dataframe tbody tr th:only-of-type {\n",
       "        vertical-align: middle;\n",
       "    }\n",
       "\n",
       "    .dataframe tbody tr th {\n",
       "        vertical-align: top;\n",
       "    }\n",
       "\n",
       "    .dataframe thead th {\n",
       "        text-align: right;\n",
       "    }\n",
       "</style>\n",
       "<table border=\"1\" class=\"dataframe\">\n",
       "  <thead>\n",
       "    <tr style=\"text-align: right;\">\n",
       "      <th></th>\n",
       "      <th>id</th>\n",
       "      <th>age</th>\n",
       "      <th>hypertension</th>\n",
       "      <th>heart_disease</th>\n",
       "      <th>avg_glucose_level</th>\n",
       "      <th>bmi</th>\n",
       "      <th>stroke</th>\n",
       "    </tr>\n",
       "  </thead>\n",
       "  <tbody>\n",
       "    <tr>\n",
       "      <th>count</th>\n",
       "      <td>5110.000000</td>\n",
       "      <td>5110.000000</td>\n",
       "      <td>5110.000000</td>\n",
       "      <td>5110.000000</td>\n",
       "      <td>5110.000000</td>\n",
       "      <td>5110.000000</td>\n",
       "      <td>5110.000000</td>\n",
       "    </tr>\n",
       "    <tr>\n",
       "      <th>mean</th>\n",
       "      <td>36517.829354</td>\n",
       "      <td>43.226614</td>\n",
       "      <td>0.097456</td>\n",
       "      <td>0.054012</td>\n",
       "      <td>106.147677</td>\n",
       "      <td>28.862035</td>\n",
       "      <td>0.048728</td>\n",
       "    </tr>\n",
       "    <tr>\n",
       "      <th>std</th>\n",
       "      <td>21161.721625</td>\n",
       "      <td>22.612647</td>\n",
       "      <td>0.296607</td>\n",
       "      <td>0.226063</td>\n",
       "      <td>45.283560</td>\n",
       "      <td>7.699562</td>\n",
       "      <td>0.215320</td>\n",
       "    </tr>\n",
       "    <tr>\n",
       "      <th>min</th>\n",
       "      <td>67.000000</td>\n",
       "      <td>0.080000</td>\n",
       "      <td>0.000000</td>\n",
       "      <td>0.000000</td>\n",
       "      <td>55.120000</td>\n",
       "      <td>10.300000</td>\n",
       "      <td>0.000000</td>\n",
       "    </tr>\n",
       "    <tr>\n",
       "      <th>25%</th>\n",
       "      <td>17741.250000</td>\n",
       "      <td>25.000000</td>\n",
       "      <td>0.000000</td>\n",
       "      <td>0.000000</td>\n",
       "      <td>77.245000</td>\n",
       "      <td>23.800000</td>\n",
       "      <td>0.000000</td>\n",
       "    </tr>\n",
       "    <tr>\n",
       "      <th>50%</th>\n",
       "      <td>36932.000000</td>\n",
       "      <td>45.000000</td>\n",
       "      <td>0.000000</td>\n",
       "      <td>0.000000</td>\n",
       "      <td>91.885000</td>\n",
       "      <td>28.100000</td>\n",
       "      <td>0.000000</td>\n",
       "    </tr>\n",
       "    <tr>\n",
       "      <th>75%</th>\n",
       "      <td>54682.000000</td>\n",
       "      <td>61.000000</td>\n",
       "      <td>0.000000</td>\n",
       "      <td>0.000000</td>\n",
       "      <td>114.090000</td>\n",
       "      <td>32.800000</td>\n",
       "      <td>0.000000</td>\n",
       "    </tr>\n",
       "    <tr>\n",
       "      <th>max</th>\n",
       "      <td>72940.000000</td>\n",
       "      <td>82.000000</td>\n",
       "      <td>1.000000</td>\n",
       "      <td>1.000000</td>\n",
       "      <td>271.740000</td>\n",
       "      <td>97.600000</td>\n",
       "      <td>1.000000</td>\n",
       "    </tr>\n",
       "  </tbody>\n",
       "</table>\n",
       "</div>"
      ],
      "text/plain": [
       "                 id          age  hypertension  heart_disease  \\\n",
       "count   5110.000000  5110.000000   5110.000000    5110.000000   \n",
       "mean   36517.829354    43.226614      0.097456       0.054012   \n",
       "std    21161.721625    22.612647      0.296607       0.226063   \n",
       "min       67.000000     0.080000      0.000000       0.000000   \n",
       "25%    17741.250000    25.000000      0.000000       0.000000   \n",
       "50%    36932.000000    45.000000      0.000000       0.000000   \n",
       "75%    54682.000000    61.000000      0.000000       0.000000   \n",
       "max    72940.000000    82.000000      1.000000       1.000000   \n",
       "\n",
       "       avg_glucose_level          bmi       stroke  \n",
       "count        5110.000000  5110.000000  5110.000000  \n",
       "mean          106.147677    28.862035     0.048728  \n",
       "std            45.283560     7.699562     0.215320  \n",
       "min            55.120000    10.300000     0.000000  \n",
       "25%            77.245000    23.800000     0.000000  \n",
       "50%            91.885000    28.100000     0.000000  \n",
       "75%           114.090000    32.800000     0.000000  \n",
       "max           271.740000    97.600000     1.000000  "
      ]
     },
     "execution_count": 11,
     "metadata": {},
     "output_type": "execute_result"
    }
   ],
   "source": [
    "df.describe()"
   ]
  },
  {
   "cell_type": "code",
   "execution_count": 12,
   "id": "5eba5521",
   "metadata": {
    "scrolled": true
   },
   "outputs": [
    {
     "data": {
      "text/plain": [
       "0    4861\n",
       "1     249\n",
       "Name: stroke, dtype: int64"
      ]
     },
     "execution_count": 12,
     "metadata": {},
     "output_type": "execute_result"
    }
   ],
   "source": [
    "df['stroke'].value_counts()"
   ]
  },
  {
   "cell_type": "code",
   "execution_count": 13,
   "id": "374b2a35",
   "metadata": {
    "scrolled": false
   },
   "outputs": [
    {
     "data": {
      "image/png": "[encoded data removed]",
      "text/plain": [
       "<Figure size 432x288 with 1 Axes>"
      ]
     },
     "metadata": {},
     "output_type": "display_data"
    }
   ],
   "source": [
    "plt.pie(df[\"stroke\"].value_counts(),autopct='%.2f%%')\n",
    "plt.show()"
   ]
  },
  {
   "cell_type": "code",
   "execution_count": 14,
   "id": "2d4a390f",
   "metadata": {},
   "outputs": [
    {
     "data": {
      "text/plain": [
       "Female    2994\n",
       "Male      2115\n",
       "Other        1\n",
       "Name: gender, dtype: int64"
      ]
     },
     "execution_count": 14,
     "metadata": {},
     "output_type": "execute_result"
    }
   ],
   "source": [
    "df.gender.value_counts()"
   ]
  },
  {
   "cell_type": "code",
   "execution_count": 15,
   "id": "5131498a",
   "metadata": {},
   "outputs": [],
   "source": [
    "df['gender'].replace({'Other':'Female'},inplace=True)"
   ]
  },
  {
   "cell_type": "code",
   "execution_count": 16,
   "id": "f3005170",
   "metadata": {
    "scrolled": true
   },
   "outputs": [
    {
     "data": {
      "text/plain": [
       "<AxesSubplot:xlabel='gender', ylabel='count'>"
      ]
     },
     "execution_count": 16,
     "metadata": {},
     "output_type": "execute_result"
    },
    {
     "data": {
      "image/png": "[encoded data removed]",
      "text/plain": [
       "<Figure size 432x288 with 1 Axes>"
      ]
     },
     "metadata": {
      "needs_background": "light"
     },
     "output_type": "display_data"
    }
   ],
   "source": [
    "sns.countplot(df[\"gender\"],hue=df[\"gender\"])"
   ]
  },
  {
   "cell_type": "code",
   "execution_count": 17,
   "id": "ed50a05f",
   "metadata": {},
   "outputs": [
    {
     "data": {
      "image/png": "[encoded data removed]",
      "text/plain": [
       "<Figure size 432x288 with 1 Axes>"
      ]
     },
     "metadata": {},
     "output_type": "display_data"
    }
   ],
   "source": [
    "plt.pie(df[\"gender\"].value_counts(),autopct='%.2f%%')\n",
    "plt.show()"
   ]
  },
  {
   "cell_type": "code",
   "execution_count": 18,
   "id": "2ebcb5b3",
   "metadata": {},
   "outputs": [],
   "source": [
    "## observations\n",
    "\n",
    "# male has a count of 2115 and female has a count of 2995 \n",
    "# it seems that female has a high count over male."
   ]
  },
  {
   "cell_type": "code",
   "execution_count": 19,
   "id": "55f8cd0d",
   "metadata": {
    "scrolled": true
   },
   "outputs": [
    {
     "data": {
      "text/plain": [
       "<AxesSubplot:xlabel='bmi', ylabel='avg_glucose_level'>"
      ]
     },
     "execution_count": 19,
     "metadata": {},
     "output_type": "execute_result"
    },
    {
     "data": {
      "image/png": "[encoded data removed]",
      "text/plain": [
       "<Figure size 432x288 with 1 Axes>"
      ]
     },
     "metadata": {
      "needs_background": "light"
     },
     "output_type": "display_data"
    }
   ],
   "source": [
    "#A)  BMI and Glucose Level\n",
    "sns.scatterplot(df[\"bmi\"],df[\"avg_glucose_level\"],hue=df[\"stroke\"])"
   ]
  },
  {
   "cell_type": "code",
   "execution_count": 20,
   "id": "9b8ebe29",
   "metadata": {
    "scrolled": true
   },
   "outputs": [
    {
     "data": {
      "text/plain": [
       "<AxesSubplot:xlabel='bmi', ylabel='age'>"
      ]
     },
     "execution_count": 20,
     "metadata": {},
     "output_type": "execute_result"
    },
    {
     "data": {
      "image/png": "[encoded data removed]",
      "text/plain": [
       "<Figure size 432x288 with 1 Axes>"
      ]
     },
     "metadata": {
      "needs_background": "light"
     },
     "output_type": "display_data"
    }
   ],
   "source": [
    "#BMI and Age\n",
    "sns.scatterplot(df[\"bmi\"],df[\"age\"],hue=df[\"stroke\"])\n"
   ]
  },
  {
   "cell_type": "code",
   "execution_count": 21,
   "id": "54178af9",
   "metadata": {},
   "outputs": [],
   "source": [
    "# smoking categories among the stroke population."
   ]
  },
  {
   "cell_type": "code",
   "execution_count": 22,
   "id": "1ffd176a",
   "metadata": {},
   "outputs": [
    {
     "data": {
      "text/plain": [
       "Text(0.5, 1.0, 'smoking status')"
      ]
     },
     "execution_count": 22,
     "metadata": {},
     "output_type": "execute_result"
    },
    {
     "data": {
      "image/png": "[encoded data removed]",
      "text/plain": [
       "<Figure size 432x288 with 1 Axes>"
      ]
     },
     "metadata": {},
     "output_type": "display_data"
    }
   ],
   "source": [
    "df[\"smoking_status\"].value_counts().plot(kind=\"pie\",autopct=\"%0.2f%%\")\n",
    "plt.title(\"smoking status\")"
   ]
  },
  {
   "cell_type": "code",
   "execution_count": 23,
   "id": "3965d79e",
   "metadata": {},
   "outputs": [
    {
     "data": {
      "text/plain": [
       "never smoked       1892\n",
       "Unknown            1544\n",
       "formerly smoked     885\n",
       "smokes              789\n",
       "Name: smoking_status, dtype: int64"
      ]
     },
     "execution_count": 23,
     "metadata": {},
     "output_type": "execute_result"
    }
   ],
   "source": [
    "df[\"smoking_status\"].value_counts()"
   ]
  },
  {
   "cell_type": "code",
   "execution_count": 1,
   "id": "429963ad",
   "metadata": {},
   "outputs": [],
   "source": [
    "# 1 .assuming data is normal and has equal variance"
   ]
  },
  {
   "cell_type": "markdown",
   "id": "c4420c8d",
   "metadata": {},
   "source": [
    "#### Gender vs Stroke"
   ]
  },
  {
   "cell_type": "code",
   "execution_count": 25,
   "id": "b6a7426d",
   "metadata": {},
   "outputs": [],
   "source": [
    "# 2. hypothesis formation\n",
    "# h0 : no significant relationship b/w independent variable (stroke) and dependent variable(gender) \n",
    "# h1 : there is a  significant relationship b/w independent variable (stroke) and dependent variable(gender) "
   ]
  },
  {
   "cell_type": "code",
   "execution_count": 26,
   "id": "263d9876",
   "metadata": {},
   "outputs": [],
   "source": [
    "import scipy.stats as sts "
   ]
  },
  {
   "cell_type": "code",
   "execution_count": 27,
   "id": "93449847",
   "metadata": {},
   "outputs": [
    {
     "data": {
      "text/plain": [
       "(0.34312923759376157,\n",
       " 0.5580285118426893,\n",
       " 1,\n",
       " array([[2849.05968689, 2011.94031311],\n",
       "        [ 145.94031311,  103.05968689]]))"
      ]
     },
     "execution_count": 27,
     "metadata": {},
     "output_type": "execute_result"
    }
   ],
   "source": [
    "sts.chi2_contingency(pd.crosstab(df[\"stroke\"],df[\"gender\"]))"
   ]
  },
  {
   "cell_type": "code",
   "execution_count": 28,
   "id": "69f1ecdd",
   "metadata": {},
   "outputs": [],
   "source": [
    "pval = 0.7895490538408245"
   ]
  },
  {
   "cell_type": "code",
   "execution_count": 29,
   "id": "522108ce",
   "metadata": {},
   "outputs": [
    {
     "data": {
      "text/plain": [
       "False"
      ]
     },
     "execution_count": 29,
     "metadata": {},
     "output_type": "execute_result"
    }
   ],
   "source": [
    "pval< 0.05  ## 0.05 is significance level"
   ]
  },
  {
   "cell_type": "code",
   "execution_count": 30,
   "id": "78531884",
   "metadata": {},
   "outputs": [],
   "source": [
    "# since pval is not < sig level,we fail to reject null hypothesis \n",
    "\n",
    "# concluding that gender is insignificant variable "
   ]
  },
  {
   "cell_type": "markdown",
   "id": "2111bd0a",
   "metadata": {},
   "source": [
    "#### Age vs Stroke"
   ]
  },
  {
   "cell_type": "code",
   "execution_count": 31,
   "id": "244315fb",
   "metadata": {},
   "outputs": [],
   "source": [
    "# 2. hypothesis formation\n",
    "# h0 : no significant relationship b/w independent variable (stroke) and dependent variable(age) \n",
    "# h1 : there is a  significant relationship b/w independent variable (stroke) and dependent variable(age) "
   ]
  },
  {
   "cell_type": "code",
   "execution_count": 32,
   "id": "a1f62427",
   "metadata": {},
   "outputs": [
    {
     "data": {
      "text/plain": [
       "0.0"
      ]
     },
     "execution_count": 32,
     "metadata": {},
     "output_type": "execute_result"
    }
   ],
   "source": [
    "ttest,pval  = sts.ttest_ind(df[\"stroke\"],df[\"age\"])\n",
    "pval"
   ]
  },
  {
   "cell_type": "code",
   "execution_count": 33,
   "id": "9953159f",
   "metadata": {},
   "outputs": [
    {
     "data": {
      "text/plain": [
       "True"
      ]
     },
     "execution_count": 33,
     "metadata": {},
     "output_type": "execute_result"
    }
   ],
   "source": [
    "pval < 0.05"
   ]
  },
  {
   "cell_type": "code",
   "execution_count": 34,
   "id": "448f0f6d",
   "metadata": {},
   "outputs": [],
   "source": [
    "# since pval < sig level, we reject h0.\n",
    "\n",
    "# concluding that age is significant variable"
   ]
  },
  {
   "cell_type": "markdown",
   "id": "021ef8d5",
   "metadata": {},
   "source": [
    "#### Hypertension vs Stroke"
   ]
  },
  {
   "cell_type": "code",
   "execution_count": 35,
   "id": "9ee413f7",
   "metadata": {},
   "outputs": [],
   "source": [
    "# 2. hypothesis formation\n",
    "# h0 : no significant relationship b/w independent variable (stroke) and dependent variable(hypertension) \n",
    "# h1 : there is a  significant relationship b/w independent variable (stroke) and dependent variable(hypertension) "
   ]
  },
  {
   "cell_type": "code",
   "execution_count": 36,
   "id": "11e60386",
   "metadata": {},
   "outputs": [
    {
     "data": {
      "text/plain": [
       "(81.6053682482931,\n",
       " 1.661621901511823e-19,\n",
       " 1,\n",
       " array([[4387.2665362,  473.7334638],\n",
       "        [ 224.7334638,   24.2665362]]))"
      ]
     },
     "execution_count": 36,
     "metadata": {},
     "output_type": "execute_result"
    }
   ],
   "source": [
    "sts.chi2_contingency(pd.crosstab(df[\"stroke\"],df[\"hypertension\"]))\n"
   ]
  },
  {
   "cell_type": "code",
   "execution_count": 37,
   "id": "9530c69f",
   "metadata": {},
   "outputs": [
    {
     "data": {
      "text/plain": [
       "True"
      ]
     },
     "execution_count": 37,
     "metadata": {},
     "output_type": "execute_result"
    }
   ],
   "source": [
    "pval = 1.661621901511823e-19\n",
    "pval < 0.05"
   ]
  },
  {
   "cell_type": "code",
   "execution_count": 38,
   "id": "885ca908",
   "metadata": {},
   "outputs": [],
   "source": [
    "# since pval is < sig level we reject h0\n",
    "#hypertension significant"
   ]
  },
  {
   "cell_type": "markdown",
   "id": "88932fc4",
   "metadata": {},
   "source": [
    "#### Heart Disease vs Stroke"
   ]
  },
  {
   "cell_type": "code",
   "execution_count": 39,
   "id": "7e957421",
   "metadata": {},
   "outputs": [],
   "source": [
    "# 2. hypothesis formation\n",
    "# h0 : no significant relationship b/w independent variable (stroke) and dependent variable(heart disease) \n",
    "# h1 : there is a  significant relationship b/w independent variable (stroke) and dependent variable(heart disease) "
   ]
  },
  {
   "cell_type": "code",
   "execution_count": 40,
   "id": "d41d7091",
   "metadata": {},
   "outputs": [
    {
     "data": {
      "text/plain": [
       "(90.25956125843324,\n",
       " 2.0887845685229236e-21,\n",
       " 1,\n",
       " array([[4598.44892368,  262.55107632],\n",
       "        [ 235.55107632,   13.44892368]]))"
      ]
     },
     "execution_count": 40,
     "metadata": {},
     "output_type": "execute_result"
    }
   ],
   "source": [
    "sts.chi2_contingency(pd.crosstab(df[\"stroke\"],df[\"heart_disease\"]))"
   ]
  },
  {
   "cell_type": "code",
   "execution_count": 41,
   "id": "a82dfecc",
   "metadata": {},
   "outputs": [],
   "source": [
    "pval = 2.0887845685229236e-21"
   ]
  },
  {
   "cell_type": "code",
   "execution_count": 42,
   "id": "0c78b7d3",
   "metadata": {},
   "outputs": [
    {
     "data": {
      "text/plain": [
       "True"
      ]
     },
     "execution_count": 42,
     "metadata": {},
     "output_type": "execute_result"
    }
   ],
   "source": [
    "pval < 0.05"
   ]
  },
  {
   "cell_type": "code",
   "execution_count": 43,
   "id": "113d3e32",
   "metadata": {},
   "outputs": [],
   "source": [
    "# since pval is < sig level we reject h0\n",
    "\n",
    "# concluding that heart_disease is significant"
   ]
  },
  {
   "cell_type": "markdown",
   "id": "5f0c8f8b",
   "metadata": {},
   "source": [
    "#### Ever_Married vs Stroke"
   ]
  },
  {
   "cell_type": "code",
   "execution_count": 44,
   "id": "17e5726c",
   "metadata": {},
   "outputs": [],
   "source": [
    "# 2. hypothesis formation\n",
    "# h0 : no significant relationship b/w independent variable (stroke) and dependent variable(ever married) \n",
    "# h1 : there is a  significant relationship b/w independent variable (stroke) and dependent variable(ever married)"
   ]
  },
  {
   "cell_type": "code",
   "execution_count": 45,
   "id": "92bad300",
   "metadata": {},
   "outputs": [
    {
     "data": {
      "text/plain": [
       "(58.923890259034195,\n",
       " 1.6389021142314745e-14,\n",
       " 1,\n",
       " array([[1671.38493151, 3189.61506849],\n",
       "        [  85.61506849,  163.38493151]]))"
      ]
     },
     "execution_count": 45,
     "metadata": {},
     "output_type": "execute_result"
    }
   ],
   "source": [
    "sts.chi2_contingency(pd.crosstab(df[\"stroke\"],df[\"ever_married\"]))"
   ]
  },
  {
   "cell_type": "code",
   "execution_count": 46,
   "id": "496dc202",
   "metadata": {},
   "outputs": [
    {
     "data": {
      "text/plain": [
       "True"
      ]
     },
     "execution_count": 46,
     "metadata": {},
     "output_type": "execute_result"
    }
   ],
   "source": [
    "pval = 1.6389021142314745e-14\n",
    "pval < 0.05"
   ]
  },
  {
   "cell_type": "code",
   "execution_count": 47,
   "id": "bd97cc38",
   "metadata": {},
   "outputs": [],
   "source": [
    "# since pval is < sig level we reject h0\n",
    "# ever_married is significant"
   ]
  },
  {
   "cell_type": "markdown",
   "id": "209c4394",
   "metadata": {},
   "source": [
    "#### Work_type vs Stroke"
   ]
  },
  {
   "cell_type": "code",
   "execution_count": 48,
   "id": "d89aa0c9",
   "metadata": {},
   "outputs": [],
   "source": [
    "# 2. hypothesis formation\n",
    "# h0 : no significant relationship b/w independent variable (stroke) and dependent variable(work_type) \n",
    "# h1 : there is a  significant relationship b/w independent variable (stroke) and dependent variable(work_type)"
   ]
  },
  {
   "cell_type": "code",
   "execution_count": 49,
   "id": "1c62353c",
   "metadata": {},
   "outputs": [
    {
     "data": {
      "text/plain": [
       "(49.163511976675295,\n",
       " 5.397707801896119e-10,\n",
       " 4,\n",
       " array([[6.24985714e+02, 2.09279843e+01, 2.78247065e+03, 7.79091781e+02,\n",
       "         6.53523875e+02],\n",
       "        [3.20142857e+01, 1.07201566e+00, 1.42529354e+02, 3.99082192e+01,\n",
       "         3.34761252e+01]]))"
      ]
     },
     "execution_count": 49,
     "metadata": {},
     "output_type": "execute_result"
    }
   ],
   "source": [
    "sts.chi2_contingency(pd.crosstab(df[\"stroke\"],df[\"work_type\"]))"
   ]
  },
  {
   "cell_type": "code",
   "execution_count": 50,
   "id": "c3a074e7",
   "metadata": {},
   "outputs": [
    {
     "data": {
      "text/plain": [
       "True"
      ]
     },
     "execution_count": 50,
     "metadata": {},
     "output_type": "execute_result"
    }
   ],
   "source": [
    "pval=5.397707801896119e-10\n",
    "pval < 0.05"
   ]
  },
  {
   "cell_type": "code",
   "execution_count": 51,
   "id": "0a00934e",
   "metadata": {},
   "outputs": [],
   "source": [
    "# since pval is < sig level we reject h0\n",
    "# work_type is significant"
   ]
  },
  {
   "cell_type": "markdown",
   "id": "b55a86c2",
   "metadata": {},
   "source": [
    "#### Residence_type vs Stroke"
   ]
  },
  {
   "cell_type": "code",
   "execution_count": 52,
   "id": "6cea386e",
   "metadata": {},
   "outputs": [],
   "source": [
    "# 2. hypothesis formation\n",
    "# h0 : no significant relationship b/w independent variable (stroke) and dependent variable(Residence_type) \n",
    "# h1 : there is a  significant relationship b/w independent variable (stroke) and dependent variable(Residence_type)"
   ]
  },
  {
   "cell_type": "code",
   "execution_count": 53,
   "id": "3d75b22a",
   "metadata": {},
   "outputs": [
    {
     "data": {
      "text/plain": [
       "(1.0816367471627524,\n",
       " 0.29833169286876987,\n",
       " 1,\n",
       " array([[2391.49784736, 2469.50215264],\n",
       "        [ 122.50215264,  126.49784736]]))"
      ]
     },
     "execution_count": 53,
     "metadata": {},
     "output_type": "execute_result"
    }
   ],
   "source": [
    "sts.chi2_contingency(pd.crosstab(df[\"stroke\"],df[\"Residence_type\"]))"
   ]
  },
  {
   "cell_type": "code",
   "execution_count": 54,
   "id": "a7c327cd",
   "metadata": {},
   "outputs": [
    {
     "data": {
      "text/plain": [
       "False"
      ]
     },
     "execution_count": 54,
     "metadata": {},
     "output_type": "execute_result"
    }
   ],
   "source": [
    "pval=0.29833169286876987\n",
    "pval < 0.05"
   ]
  },
  {
   "cell_type": "code",
   "execution_count": 55,
   "id": "1317387f",
   "metadata": {},
   "outputs": [],
   "source": [
    "# since pval is not < sig level,we fail to reject null hypothesis \n",
    "\n",
    "# concluding that Residence type is insignificant variable "
   ]
  },
  {
   "cell_type": "markdown",
   "id": "c31971b5",
   "metadata": {},
   "source": [
    "#### Avg glucose elevel vs Stroke"
   ]
  },
  {
   "cell_type": "code",
   "execution_count": 56,
   "id": "f18994db",
   "metadata": {},
   "outputs": [],
   "source": [
    "# 2. hypothesis formation\n",
    "# h0 : no significant relationship b/w independent variable (stroke) and dependent variable(avg_glucose_level) \n",
    "# h1 : there is a  significant relationship b/w independent variable (stroke) and dependent variable(avg_glucose_level)"
   ]
  },
  {
   "cell_type": "code",
   "execution_count": 57,
   "id": "a3811a99",
   "metadata": {},
   "outputs": [],
   "source": [
    "tstat,pval=sts.f_oneway(df[\"stroke\"],df[\"avg_glucose_level\"])"
   ]
  },
  {
   "cell_type": "code",
   "execution_count": 58,
   "id": "3fa21465",
   "metadata": {},
   "outputs": [
    {
     "data": {
      "text/plain": [
       "0.0"
      ]
     },
     "execution_count": 58,
     "metadata": {},
     "output_type": "execute_result"
    }
   ],
   "source": [
    "pval"
   ]
  },
  {
   "cell_type": "code",
   "execution_count": 59,
   "id": "c586fcda",
   "metadata": {},
   "outputs": [
    {
     "data": {
      "text/plain": [
       "True"
      ]
     },
     "execution_count": 59,
     "metadata": {},
     "output_type": "execute_result"
    }
   ],
   "source": [
    "pval<0.05"
   ]
  },
  {
   "cell_type": "code",
   "execution_count": 60,
   "id": "5e042b7e",
   "metadata": {},
   "outputs": [],
   "source": [
    "# since pval is < sig level we reject h0\n",
    "# avg_glucose_level is significant"
   ]
  },
  {
   "cell_type": "markdown",
   "id": "81e069ac",
   "metadata": {},
   "source": [
    "#### BMI vs Stroke"
   ]
  },
  {
   "cell_type": "code",
   "execution_count": 61,
   "id": "63a38ce8",
   "metadata": {},
   "outputs": [],
   "source": [
    "# 2. hypothesis formation\n",
    "# h0 : no significant relationship b/w independent variable (stroke) and dependent variable(bmi) \n",
    "# h1 : there is a  significant relationship b/w independent variable (stroke) and dependent variable(bmi)"
   ]
  },
  {
   "cell_type": "code",
   "execution_count": 62,
   "id": "65bbe9ea",
   "metadata": {},
   "outputs": [
    {
     "data": {
      "text/plain": [
       "True"
      ]
     },
     "execution_count": 62,
     "metadata": {},
     "output_type": "execute_result"
    }
   ],
   "source": [
    "tstat,pval=sts.f_oneway(df[\"stroke\"],df[\"bmi\"])\n",
    "pval<0.05"
   ]
  },
  {
   "cell_type": "code",
   "execution_count": 63,
   "id": "34b6ddd2",
   "metadata": {},
   "outputs": [],
   "source": [
    "# since pval is < sig level we reject h0\n",
    "# BMI is significant"
   ]
  },
  {
   "cell_type": "markdown",
   "id": "10465a1b",
   "metadata": {},
   "source": [
    "#### Smoking_status vs Stroke"
   ]
  },
  {
   "cell_type": "code",
   "execution_count": 64,
   "id": "b4bba71b",
   "metadata": {},
   "outputs": [],
   "source": [
    "# 2. hypothesis formation\n",
    "# h0 : no significant relationship b/w independent variable (stroke) and dependent variable(smoking_status) \n",
    "# h1 : there is a  significant relationship b/w independent variable (stroke) and dependent variable(smoking_status)"
   ]
  },
  {
   "cell_type": "code",
   "execution_count": 65,
   "id": "a5d964ff",
   "metadata": {},
   "outputs": [
    {
     "data": {
      "text/plain": [
       "(29.147269191399264,\n",
       " 2.0853997025008455e-06,\n",
       " 3,\n",
       " array([[1468.76399217,  841.87573386, 1799.80665362,  750.55362035],\n",
       "        [  75.23600783,   43.12426614,   92.19334638,   38.44637965]]))"
      ]
     },
     "execution_count": 65,
     "metadata": {},
     "output_type": "execute_result"
    }
   ],
   "source": [
    "sts.chi2_contingency(pd.crosstab(df[\"stroke\"],df[\"smoking_status\"]))"
   ]
  },
  {
   "cell_type": "code",
   "execution_count": 66,
   "id": "f39b6b22",
   "metadata": {},
   "outputs": [
    {
     "data": {
      "text/plain": [
       "True"
      ]
     },
     "execution_count": 66,
     "metadata": {},
     "output_type": "execute_result"
    }
   ],
   "source": [
    "pval=2.0853997025008455e-06\n",
    "pval<0.05"
   ]
  },
  {
   "cell_type": "code",
   "execution_count": 67,
   "id": "f38c2fb4",
   "metadata": {},
   "outputs": [],
   "source": [
    "# insignificant variables are : \n",
    "# gender and residence_type"
   ]
  },
  {
   "cell_type": "code",
   "execution_count": 68,
   "id": "7025c469",
   "metadata": {},
   "outputs": [],
   "source": [
    "# 12.drop insignificant variables "
   ]
  },
  {
   "cell_type": "code",
   "execution_count": 69,
   "id": "ad5465ae",
   "metadata": {},
   "outputs": [],
   "source": [
    "df.drop([\"id\",\"gender\",\"Residence_type\"],axis=1,inplace=True)"
   ]
  },
  {
   "cell_type": "code",
   "execution_count": 70,
   "id": "83d63ab0",
   "metadata": {},
   "outputs": [
    {
     "data": {
      "text/html": [
       "<div>\n",
       "<style scoped>\n",
       "    .dataframe tbody tr th:only-of-type {\n",
       "        vertical-align: middle;\n",
       "    }\n",
       "\n",
       "    .dataframe tbody tr th {\n",
       "        vertical-align: top;\n",
       "    }\n",
       "\n",
       "    .dataframe thead th {\n",
       "        text-align: right;\n",
       "    }\n",
       "</style>\n",
       "<table border=\"1\" class=\"dataframe\">\n",
       "  <thead>\n",
       "    <tr style=\"text-align: right;\">\n",
       "      <th></th>\n",
       "      <th>age</th>\n",
       "      <th>hypertension</th>\n",
       "      <th>heart_disease</th>\n",
       "      <th>ever_married</th>\n",
       "      <th>work_type</th>\n",
       "      <th>avg_glucose_level</th>\n",
       "      <th>bmi</th>\n",
       "      <th>smoking_status</th>\n",
       "      <th>stroke</th>\n",
       "    </tr>\n",
       "  </thead>\n",
       "  <tbody>\n",
       "    <tr>\n",
       "      <th>0</th>\n",
       "      <td>67.0</td>\n",
       "      <td>0</td>\n",
       "      <td>1</td>\n",
       "      <td>Yes</td>\n",
       "      <td>Private</td>\n",
       "      <td>228.69</td>\n",
       "      <td>36.6</td>\n",
       "      <td>formerly smoked</td>\n",
       "      <td>1</td>\n",
       "    </tr>\n",
       "    <tr>\n",
       "      <th>1</th>\n",
       "      <td>61.0</td>\n",
       "      <td>0</td>\n",
       "      <td>0</td>\n",
       "      <td>Yes</td>\n",
       "      <td>Self-employed</td>\n",
       "      <td>202.21</td>\n",
       "      <td>28.1</td>\n",
       "      <td>never smoked</td>\n",
       "      <td>1</td>\n",
       "    </tr>\n",
       "    <tr>\n",
       "      <th>2</th>\n",
       "      <td>80.0</td>\n",
       "      <td>0</td>\n",
       "      <td>1</td>\n",
       "      <td>Yes</td>\n",
       "      <td>Private</td>\n",
       "      <td>105.92</td>\n",
       "      <td>32.5</td>\n",
       "      <td>never smoked</td>\n",
       "      <td>1</td>\n",
       "    </tr>\n",
       "    <tr>\n",
       "      <th>3</th>\n",
       "      <td>49.0</td>\n",
       "      <td>0</td>\n",
       "      <td>0</td>\n",
       "      <td>Yes</td>\n",
       "      <td>Private</td>\n",
       "      <td>171.23</td>\n",
       "      <td>34.4</td>\n",
       "      <td>smokes</td>\n",
       "      <td>1</td>\n",
       "    </tr>\n",
       "    <tr>\n",
       "      <th>4</th>\n",
       "      <td>79.0</td>\n",
       "      <td>1</td>\n",
       "      <td>0</td>\n",
       "      <td>Yes</td>\n",
       "      <td>Self-employed</td>\n",
       "      <td>174.12</td>\n",
       "      <td>24.0</td>\n",
       "      <td>never smoked</td>\n",
       "      <td>1</td>\n",
       "    </tr>\n",
       "  </tbody>\n",
       "</table>\n",
       "</div>"
      ],
      "text/plain": [
       "    age  hypertension  heart_disease ever_married      work_type  \\\n",
       "0  67.0             0              1          Yes        Private   \n",
       "1  61.0             0              0          Yes  Self-employed   \n",
       "2  80.0             0              1          Yes        Private   \n",
       "3  49.0             0              0          Yes        Private   \n",
       "4  79.0             1              0          Yes  Self-employed   \n",
       "\n",
       "   avg_glucose_level   bmi   smoking_status  stroke  \n",
       "0             228.69  36.6  formerly smoked       1  \n",
       "1             202.21  28.1     never smoked       1  \n",
       "2             105.92  32.5     never smoked       1  \n",
       "3             171.23  34.4           smokes       1  \n",
       "4             174.12  24.0     never smoked       1  "
      ]
     },
     "execution_count": 70,
     "metadata": {},
     "output_type": "execute_result"
    }
   ],
   "source": [
    "df.head()"
   ]
  },
  {
   "cell_type": "code",
   "execution_count": 71,
   "id": "180223d3",
   "metadata": {},
   "outputs": [
    {
     "data": {
      "text/plain": [
       "Private          2925\n",
       "Self-employed     819\n",
       "children          687\n",
       "Govt_job          657\n",
       "Never_worked       22\n",
       "Name: work_type, dtype: int64"
      ]
     },
     "execution_count": 71,
     "metadata": {},
     "output_type": "execute_result"
    }
   ],
   "source": [
    "df[\"work_type\"].value_counts()"
   ]
  },
  {
   "cell_type": "code",
   "execution_count": 72,
   "id": "e9d32773",
   "metadata": {},
   "outputs": [],
   "source": [
    "df[\"work_type\"] = df[\"work_type\"].replace({\"Private\":0,\"Self-employed\":1,\"children\":-1,\n",
    "                                            \"Govt_job\":2,\"Never_worked\":-2})"
   ]
  },
  {
   "cell_type": "code",
   "execution_count": 73,
   "id": "ed29ca65",
   "metadata": {},
   "outputs": [
    {
     "data": {
      "text/plain": [
       " 0    2925\n",
       " 1     819\n",
       "-1     687\n",
       " 2     657\n",
       "-2      22\n",
       "Name: work_type, dtype: int64"
      ]
     },
     "execution_count": 73,
     "metadata": {},
     "output_type": "execute_result"
    }
   ],
   "source": [
    "df[\"work_type\"].value_counts()"
   ]
  },
  {
   "cell_type": "code",
   "execution_count": 74,
   "id": "dae989c5",
   "metadata": {},
   "outputs": [
    {
     "data": {
      "text/plain": [
       "Yes    3353\n",
       "No     1757\n",
       "Name: ever_married, dtype: int64"
      ]
     },
     "execution_count": 74,
     "metadata": {},
     "output_type": "execute_result"
    }
   ],
   "source": [
    "df[\"ever_married\"].value_counts()"
   ]
  },
  {
   "cell_type": "code",
   "execution_count": 75,
   "id": "f43d5e97",
   "metadata": {},
   "outputs": [],
   "source": [
    "df[\"ever_married\"] = df[\"ever_married\"].replace({\"No\":0,\"Yes\":1})"
   ]
  },
  {
   "cell_type": "code",
   "execution_count": 76,
   "id": "1028ddbf",
   "metadata": {},
   "outputs": [
    {
     "data": {
      "text/plain": [
       "never smoked       1892\n",
       "Unknown            1544\n",
       "formerly smoked     885\n",
       "smokes              789\n",
       "Name: smoking_status, dtype: int64"
      ]
     },
     "execution_count": 76,
     "metadata": {},
     "output_type": "execute_result"
    }
   ],
   "source": [
    "df[\"smoking_status\"].value_counts()"
   ]
  },
  {
   "cell_type": "code",
   "execution_count": 77,
   "id": "c816580e",
   "metadata": {},
   "outputs": [],
   "source": [
    "df['smoking_status'] = df[\"work_type\"].replace({\"never smoked\":0,\"Unknown\":1,\"formerly smoked\":2,\"smokes\":-2})"
   ]
  },
  {
   "cell_type": "code",
   "execution_count": 78,
   "id": "35ff2d93",
   "metadata": {},
   "outputs": [
    {
     "data": {
      "text/html": [
       "<div>\n",
       "<style scoped>\n",
       "    .dataframe tbody tr th:only-of-type {\n",
       "        vertical-align: middle;\n",
       "    }\n",
       "\n",
       "    .dataframe tbody tr th {\n",
       "        vertical-align: top;\n",
       "    }\n",
       "\n",
       "    .dataframe thead th {\n",
       "        text-align: right;\n",
       "    }\n",
       "</style>\n",
       "<table border=\"1\" class=\"dataframe\">\n",
       "  <thead>\n",
       "    <tr style=\"text-align: right;\">\n",
       "      <th></th>\n",
       "      <th>age</th>\n",
       "      <th>hypertension</th>\n",
       "      <th>heart_disease</th>\n",
       "      <th>ever_married</th>\n",
       "      <th>work_type</th>\n",
       "      <th>avg_glucose_level</th>\n",
       "      <th>bmi</th>\n",
       "      <th>smoking_status</th>\n",
       "      <th>stroke</th>\n",
       "    </tr>\n",
       "  </thead>\n",
       "  <tbody>\n",
       "    <tr>\n",
       "      <th>0</th>\n",
       "      <td>67.0</td>\n",
       "      <td>0</td>\n",
       "      <td>1</td>\n",
       "      <td>1</td>\n",
       "      <td>0</td>\n",
       "      <td>228.69</td>\n",
       "      <td>36.6</td>\n",
       "      <td>0</td>\n",
       "      <td>1</td>\n",
       "    </tr>\n",
       "    <tr>\n",
       "      <th>1</th>\n",
       "      <td>61.0</td>\n",
       "      <td>0</td>\n",
       "      <td>0</td>\n",
       "      <td>1</td>\n",
       "      <td>1</td>\n",
       "      <td>202.21</td>\n",
       "      <td>28.1</td>\n",
       "      <td>1</td>\n",
       "      <td>1</td>\n",
       "    </tr>\n",
       "    <tr>\n",
       "      <th>2</th>\n",
       "      <td>80.0</td>\n",
       "      <td>0</td>\n",
       "      <td>1</td>\n",
       "      <td>1</td>\n",
       "      <td>0</td>\n",
       "      <td>105.92</td>\n",
       "      <td>32.5</td>\n",
       "      <td>0</td>\n",
       "      <td>1</td>\n",
       "    </tr>\n",
       "    <tr>\n",
       "      <th>3</th>\n",
       "      <td>49.0</td>\n",
       "      <td>0</td>\n",
       "      <td>0</td>\n",
       "      <td>1</td>\n",
       "      <td>0</td>\n",
       "      <td>171.23</td>\n",
       "      <td>34.4</td>\n",
       "      <td>0</td>\n",
       "      <td>1</td>\n",
       "    </tr>\n",
       "    <tr>\n",
       "      <th>4</th>\n",
       "      <td>79.0</td>\n",
       "      <td>1</td>\n",
       "      <td>0</td>\n",
       "      <td>1</td>\n",
       "      <td>1</td>\n",
       "      <td>174.12</td>\n",
       "      <td>24.0</td>\n",
       "      <td>1</td>\n",
       "      <td>1</td>\n",
       "    </tr>\n",
       "  </tbody>\n",
       "</table>\n",
       "</div>"
      ],
      "text/plain": [
       "    age  hypertension  heart_disease  ever_married  work_type  \\\n",
       "0  67.0             0              1             1          0   \n",
       "1  61.0             0              0             1          1   \n",
       "2  80.0             0              1             1          0   \n",
       "3  49.0             0              0             1          0   \n",
       "4  79.0             1              0             1          1   \n",
       "\n",
       "   avg_glucose_level   bmi  smoking_status  stroke  \n",
       "0             228.69  36.6               0       1  \n",
       "1             202.21  28.1               1       1  \n",
       "2             105.92  32.5               0       1  \n",
       "3             171.23  34.4               0       1  \n",
       "4             174.12  24.0               1       1  "
      ]
     },
     "execution_count": 78,
     "metadata": {},
     "output_type": "execute_result"
    }
   ],
   "source": [
    "df.head()"
   ]
  },
  {
   "cell_type": "code",
   "execution_count": 79,
   "id": "1dcabab5",
   "metadata": {},
   "outputs": [
    {
     "data": {
      "text/plain": [
       "<AxesSubplot:xlabel='bmi', ylabel='Density'>"
      ]
     },
     "execution_count": 79,
     "metadata": {},
     "output_type": "execute_result"
    },
    {
     "data": {
      "image/png": "[encoded data removed]",
      "text/plain": [
       "<Figure size 432x288 with 1 Axes>"
      ]
     },
     "metadata": {
      "needs_background": "light"
     },
     "output_type": "display_data"
    }
   ],
   "source": [
    "sns.distplot(df[\"bmi\"])"
   ]
  },
  {
   "cell_type": "code",
   "execution_count": 80,
   "id": "0ab70b09",
   "metadata": {},
   "outputs": [
    {
     "data": {
      "text/plain": [
       "<AxesSubplot:xlabel='stroke', ylabel='Density'>"
      ]
     },
     "execution_count": 80,
     "metadata": {},
     "output_type": "execute_result"
    },
    {
     "data": {
      "image/png": "[encoded data removed]",
      "text/plain": [
       "<Figure size 432x288 with 1 Axes>"
      ]
     },
     "metadata": {
      "needs_background": "light"
     },
     "output_type": "display_data"
    }
   ],
   "source": [
    "sns.distplot(df[\"stroke\"])"
   ]
  },
  {
   "cell_type": "code",
   "execution_count": 81,
   "id": "67b0f65d",
   "metadata": {},
   "outputs": [],
   "source": [
    "# both are right skewed"
   ]
  },
  {
   "cell_type": "code",
   "execution_count": 82,
   "id": "60c51932",
   "metadata": {
    "scrolled": false
   },
   "outputs": [],
   "source": [
    "df_num = df.select_dtypes(exclude='object')\n",
    "\n",
    "df_num=df_num.drop(['smoking_status','ever_married','work_type','stroke','hypertension','heart_disease'],axis=1)\n"
   ]
  },
  {
   "cell_type": "code",
   "execution_count": 83,
   "id": "fd1b8e93",
   "metadata": {},
   "outputs": [
    {
     "data": {
      "text/html": [
       "<div>\n",
       "<style scoped>\n",
       "    .dataframe tbody tr th:only-of-type {\n",
       "        vertical-align: middle;\n",
       "    }\n",
       "\n",
       "    .dataframe tbody tr th {\n",
       "        vertical-align: top;\n",
       "    }\n",
       "\n",
       "    .dataframe thead th {\n",
       "        text-align: right;\n",
       "    }\n",
       "</style>\n",
       "<table border=\"1\" class=\"dataframe\">\n",
       "  <thead>\n",
       "    <tr style=\"text-align: right;\">\n",
       "      <th></th>\n",
       "      <th>age</th>\n",
       "      <th>avg_glucose_level</th>\n",
       "      <th>bmi</th>\n",
       "    </tr>\n",
       "  </thead>\n",
       "  <tbody>\n",
       "    <tr>\n",
       "      <th>0</th>\n",
       "      <td>67.0</td>\n",
       "      <td>228.69</td>\n",
       "      <td>36.6</td>\n",
       "    </tr>\n",
       "    <tr>\n",
       "      <th>1</th>\n",
       "      <td>61.0</td>\n",
       "      <td>202.21</td>\n",
       "      <td>28.1</td>\n",
       "    </tr>\n",
       "    <tr>\n",
       "      <th>2</th>\n",
       "      <td>80.0</td>\n",
       "      <td>105.92</td>\n",
       "      <td>32.5</td>\n",
       "    </tr>\n",
       "    <tr>\n",
       "      <th>3</th>\n",
       "      <td>49.0</td>\n",
       "      <td>171.23</td>\n",
       "      <td>34.4</td>\n",
       "    </tr>\n",
       "    <tr>\n",
       "      <th>4</th>\n",
       "      <td>79.0</td>\n",
       "      <td>174.12</td>\n",
       "      <td>24.0</td>\n",
       "    </tr>\n",
       "  </tbody>\n",
       "</table>\n",
       "</div>"
      ],
      "text/plain": [
       "    age  avg_glucose_level   bmi\n",
       "0  67.0             228.69  36.6\n",
       "1  61.0             202.21  28.1\n",
       "2  80.0             105.92  32.5\n",
       "3  49.0             171.23  34.4\n",
       "4  79.0             174.12  24.0"
      ]
     },
     "execution_count": 83,
     "metadata": {},
     "output_type": "execute_result"
    }
   ],
   "source": [
    "df_num.head()"
   ]
  },
  {
   "cell_type": "code",
   "execution_count": 84,
   "id": "9ebf75f6",
   "metadata": {},
   "outputs": [
    {
     "data": {
      "text/plain": [
       "age                 -0.137059\n",
       "avg_glucose_level    1.572284\n",
       "bmi                  1.088187\n",
       "dtype: float64"
      ]
     },
     "execution_count": 84,
     "metadata": {},
     "output_type": "execute_result"
    }
   ],
   "source": [
    "df_num.skew()"
   ]
  },
  {
   "cell_type": "code",
   "execution_count": 85,
   "id": "bdb3975a",
   "metadata": {},
   "outputs": [
    {
     "data": {
      "image/png": "[encoded data removed]",
      "text/plain": [
       "<Figure size 1080x360 with 3 Axes>"
      ]
     },
     "metadata": {
      "needs_background": "light"
     },
     "output_type": "display_data"
    }
   ],
   "source": [
    "fig, ax=plt.subplots(1,3,figsize=(15,5))\n",
    "for i,j in zip(df_num.columns,ax.flatten()):\n",
    "    sns.distplot(df_num[i],ax=j)\n",
    "plt.show()"
   ]
  },
  {
   "cell_type": "code",
   "execution_count": 86,
   "id": "8ba13788",
   "metadata": {},
   "outputs": [],
   "source": [
    "## avg_glucose_level and bmi are right and highlyskewed"
   ]
  },
  {
   "cell_type": "code",
   "execution_count": 87,
   "id": "7b73685a",
   "metadata": {},
   "outputs": [
    {
     "data": {
      "text/plain": [
       "age                 -0.991010\n",
       "avg_glucose_level    1.680479\n",
       "bmi                  3.635306\n",
       "dtype: float64"
      ]
     },
     "execution_count": 87,
     "metadata": {},
     "output_type": "execute_result"
    }
   ],
   "source": [
    "df_num.kurtosis()"
   ]
  },
  {
   "cell_type": "code",
   "execution_count": 88,
   "id": "0699aac1",
   "metadata": {},
   "outputs": [],
   "source": [
    "## age and avg_glucose_level are platykurtic\n",
    "## bmi id leptokurtic"
   ]
  },
  {
   "cell_type": "code",
   "execution_count": 89,
   "id": "26efd87b",
   "metadata": {},
   "outputs": [
    {
     "data": {
      "image/png": "[encoded data removed]",
      "text/plain": [
       "<Figure size 1080x360 with 3 Axes>"
      ]
     },
     "metadata": {
      "needs_background": "light"
     },
     "output_type": "display_data"
    }
   ],
   "source": [
    "fig, ax=plt.subplots(1,3,figsize=(15,5))\n",
    "for i,j in zip(df_num.columns,ax.flatten()):\n",
    "    sns.boxplot(x=df['stroke'],y=df_num[i],ax=j)\n",
    "plt.show()"
   ]
  },
  {
   "cell_type": "code",
   "execution_count": 90,
   "id": "702f94d6",
   "metadata": {},
   "outputs": [],
   "source": [
    "## here we can say that the numerical variables are significant with our target variable."
   ]
  },
  {
   "cell_type": "code",
   "execution_count": 91,
   "id": "0e3d4e16",
   "metadata": {},
   "outputs": [
    {
     "data": {
      "text/html": [
       "<div>\n",
       "<style scoped>\n",
       "    .dataframe tbody tr th:only-of-type {\n",
       "        vertical-align: middle;\n",
       "    }\n",
       "\n",
       "    .dataframe tbody tr th {\n",
       "        vertical-align: top;\n",
       "    }\n",
       "\n",
       "    .dataframe thead th {\n",
       "        text-align: right;\n",
       "    }\n",
       "</style>\n",
       "<table border=\"1\" class=\"dataframe\">\n",
       "  <thead>\n",
       "    <tr style=\"text-align: right;\">\n",
       "      <th></th>\n",
       "      <th>age</th>\n",
       "      <th>hypertension</th>\n",
       "      <th>heart_disease</th>\n",
       "      <th>ever_married</th>\n",
       "      <th>work_type</th>\n",
       "      <th>avg_glucose_level</th>\n",
       "      <th>bmi</th>\n",
       "      <th>smoking_status</th>\n",
       "      <th>stroke</th>\n",
       "    </tr>\n",
       "  </thead>\n",
       "  <tbody>\n",
       "    <tr>\n",
       "      <th>0</th>\n",
       "      <td>67.0</td>\n",
       "      <td>0</td>\n",
       "      <td>1</td>\n",
       "      <td>1</td>\n",
       "      <td>0</td>\n",
       "      <td>228.69</td>\n",
       "      <td>36.6</td>\n",
       "      <td>0</td>\n",
       "      <td>1</td>\n",
       "    </tr>\n",
       "    <tr>\n",
       "      <th>1</th>\n",
       "      <td>61.0</td>\n",
       "      <td>0</td>\n",
       "      <td>0</td>\n",
       "      <td>1</td>\n",
       "      <td>1</td>\n",
       "      <td>202.21</td>\n",
       "      <td>28.1</td>\n",
       "      <td>1</td>\n",
       "      <td>1</td>\n",
       "    </tr>\n",
       "    <tr>\n",
       "      <th>2</th>\n",
       "      <td>80.0</td>\n",
       "      <td>0</td>\n",
       "      <td>1</td>\n",
       "      <td>1</td>\n",
       "      <td>0</td>\n",
       "      <td>105.92</td>\n",
       "      <td>32.5</td>\n",
       "      <td>0</td>\n",
       "      <td>1</td>\n",
       "    </tr>\n",
       "    <tr>\n",
       "      <th>3</th>\n",
       "      <td>49.0</td>\n",
       "      <td>0</td>\n",
       "      <td>0</td>\n",
       "      <td>1</td>\n",
       "      <td>0</td>\n",
       "      <td>171.23</td>\n",
       "      <td>34.4</td>\n",
       "      <td>0</td>\n",
       "      <td>1</td>\n",
       "    </tr>\n",
       "    <tr>\n",
       "      <th>4</th>\n",
       "      <td>79.0</td>\n",
       "      <td>1</td>\n",
       "      <td>0</td>\n",
       "      <td>1</td>\n",
       "      <td>1</td>\n",
       "      <td>174.12</td>\n",
       "      <td>24.0</td>\n",
       "      <td>1</td>\n",
       "      <td>1</td>\n",
       "    </tr>\n",
       "  </tbody>\n",
       "</table>\n",
       "</div>"
      ],
      "text/plain": [
       "    age  hypertension  heart_disease  ever_married  work_type  \\\n",
       "0  67.0             0              1             1          0   \n",
       "1  61.0             0              0             1          1   \n",
       "2  80.0             0              1             1          0   \n",
       "3  49.0             0              0             1          0   \n",
       "4  79.0             1              0             1          1   \n",
       "\n",
       "   avg_glucose_level   bmi  smoking_status  stroke  \n",
       "0             228.69  36.6               0       1  \n",
       "1             202.21  28.1               1       1  \n",
       "2             105.92  32.5               0       1  \n",
       "3             171.23  34.4               0       1  \n",
       "4             174.12  24.0               1       1  "
      ]
     },
     "execution_count": 91,
     "metadata": {},
     "output_type": "execute_result"
    }
   ],
   "source": [
    "df.head()"
   ]
  },
  {
   "cell_type": "code",
   "execution_count": 92,
   "id": "8acbb5b2",
   "metadata": {},
   "outputs": [
    {
     "data": {
      "text/html": [
       "<div>\n",
       "<style scoped>\n",
       "    .dataframe tbody tr th:only-of-type {\n",
       "        vertical-align: middle;\n",
       "    }\n",
       "\n",
       "    .dataframe tbody tr th {\n",
       "        vertical-align: top;\n",
       "    }\n",
       "\n",
       "    .dataframe thead th {\n",
       "        text-align: right;\n",
       "    }\n",
       "</style>\n",
       "<table border=\"1\" class=\"dataframe\">\n",
       "  <thead>\n",
       "    <tr style=\"text-align: right;\">\n",
       "      <th></th>\n",
       "      <th>hypertension</th>\n",
       "      <th>heart_disease</th>\n",
       "      <th>ever_married</th>\n",
       "      <th>work_type</th>\n",
       "      <th>smoking_status</th>\n",
       "    </tr>\n",
       "  </thead>\n",
       "  <tbody>\n",
       "    <tr>\n",
       "      <th>0</th>\n",
       "      <td>0</td>\n",
       "      <td>1</td>\n",
       "      <td>1</td>\n",
       "      <td>0</td>\n",
       "      <td>0</td>\n",
       "    </tr>\n",
       "    <tr>\n",
       "      <th>1</th>\n",
       "      <td>0</td>\n",
       "      <td>0</td>\n",
       "      <td>1</td>\n",
       "      <td>1</td>\n",
       "      <td>1</td>\n",
       "    </tr>\n",
       "    <tr>\n",
       "      <th>2</th>\n",
       "      <td>0</td>\n",
       "      <td>1</td>\n",
       "      <td>1</td>\n",
       "      <td>0</td>\n",
       "      <td>0</td>\n",
       "    </tr>\n",
       "    <tr>\n",
       "      <th>3</th>\n",
       "      <td>0</td>\n",
       "      <td>0</td>\n",
       "      <td>1</td>\n",
       "      <td>0</td>\n",
       "      <td>0</td>\n",
       "    </tr>\n",
       "    <tr>\n",
       "      <th>4</th>\n",
       "      <td>1</td>\n",
       "      <td>0</td>\n",
       "      <td>1</td>\n",
       "      <td>1</td>\n",
       "      <td>1</td>\n",
       "    </tr>\n",
       "  </tbody>\n",
       "</table>\n",
       "</div>"
      ],
      "text/plain": [
       "   hypertension  heart_disease  ever_married  work_type  smoking_status\n",
       "0             0              1             1          0               0\n",
       "1             0              0             1          1               1\n",
       "2             0              1             1          0               0\n",
       "3             0              0             1          0               0\n",
       "4             1              0             1          1               1"
      ]
     },
     "execution_count": 92,
     "metadata": {},
     "output_type": "execute_result"
    }
   ],
   "source": [
    "df_cat=df[['hypertension','heart_disease','ever_married','work_type','smoking_status']]\n",
    "df_cat.head()"
   ]
  },
  {
   "cell_type": "code",
   "execution_count": 93,
   "id": "64711227",
   "metadata": {
    "scrolled": true
   },
   "outputs": [
    {
     "data": {
      "image/png": "[encoded data removed]",
      "text/plain": [
       "<Figure size 1080x360 with 6 Axes>"
      ]
     },
     "metadata": {
      "needs_background": "light"
     },
     "output_type": "display_data"
    }
   ],
   "source": [
    "fig, ax=plt.subplots(2,3,figsize=(15,5))\n",
    "for i,j in zip(df_cat.columns,ax.flatten()):\n",
    "    sns.countplot(x=df_cat[i],hue=df['stroke'],ax=j)\n",
    "plt.show()"
   ]
  },
  {
   "cell_type": "code",
   "execution_count": 94,
   "id": "ce9e0854",
   "metadata": {},
   "outputs": [],
   "source": [
    "## all the categorical variable are having variation to the tarhet variable se we can say they are significant variables."
   ]
  },
  {
   "cell_type": "code",
   "execution_count": 95,
   "id": "b660a50f",
   "metadata": {},
   "outputs": [
    {
     "data": {
      "text/html": [
       "<div>\n",
       "<style scoped>\n",
       "    .dataframe tbody tr th:only-of-type {\n",
       "        vertical-align: middle;\n",
       "    }\n",
       "\n",
       "    .dataframe tbody tr th {\n",
       "        vertical-align: top;\n",
       "    }\n",
       "\n",
       "    .dataframe thead th {\n",
       "        text-align: right;\n",
       "    }\n",
       "</style>\n",
       "<table border=\"1\" class=\"dataframe\">\n",
       "  <thead>\n",
       "    <tr style=\"text-align: right;\">\n",
       "      <th></th>\n",
       "      <th>age</th>\n",
       "      <th>hypertension</th>\n",
       "      <th>heart_disease</th>\n",
       "      <th>ever_married</th>\n",
       "      <th>work_type</th>\n",
       "      <th>avg_glucose_level</th>\n",
       "      <th>bmi</th>\n",
       "      <th>smoking_status</th>\n",
       "      <th>stroke</th>\n",
       "    </tr>\n",
       "  </thead>\n",
       "  <tbody>\n",
       "    <tr>\n",
       "      <th>0</th>\n",
       "      <td>67.0</td>\n",
       "      <td>0</td>\n",
       "      <td>1</td>\n",
       "      <td>1</td>\n",
       "      <td>0</td>\n",
       "      <td>228.69</td>\n",
       "      <td>36.6</td>\n",
       "      <td>0</td>\n",
       "      <td>1</td>\n",
       "    </tr>\n",
       "    <tr>\n",
       "      <th>1</th>\n",
       "      <td>61.0</td>\n",
       "      <td>0</td>\n",
       "      <td>0</td>\n",
       "      <td>1</td>\n",
       "      <td>1</td>\n",
       "      <td>202.21</td>\n",
       "      <td>28.1</td>\n",
       "      <td>1</td>\n",
       "      <td>1</td>\n",
       "    </tr>\n",
       "    <tr>\n",
       "      <th>2</th>\n",
       "      <td>80.0</td>\n",
       "      <td>0</td>\n",
       "      <td>1</td>\n",
       "      <td>1</td>\n",
       "      <td>0</td>\n",
       "      <td>105.92</td>\n",
       "      <td>32.5</td>\n",
       "      <td>0</td>\n",
       "      <td>1</td>\n",
       "    </tr>\n",
       "    <tr>\n",
       "      <th>3</th>\n",
       "      <td>49.0</td>\n",
       "      <td>0</td>\n",
       "      <td>0</td>\n",
       "      <td>1</td>\n",
       "      <td>0</td>\n",
       "      <td>171.23</td>\n",
       "      <td>34.4</td>\n",
       "      <td>0</td>\n",
       "      <td>1</td>\n",
       "    </tr>\n",
       "    <tr>\n",
       "      <th>4</th>\n",
       "      <td>79.0</td>\n",
       "      <td>1</td>\n",
       "      <td>0</td>\n",
       "      <td>1</td>\n",
       "      <td>1</td>\n",
       "      <td>174.12</td>\n",
       "      <td>24.0</td>\n",
       "      <td>1</td>\n",
       "      <td>1</td>\n",
       "    </tr>\n",
       "  </tbody>\n",
       "</table>\n",
       "</div>"
      ],
      "text/plain": [
       "    age  hypertension  heart_disease  ever_married  work_type  \\\n",
       "0  67.0             0              1             1          0   \n",
       "1  61.0             0              0             1          1   \n",
       "2  80.0             0              1             1          0   \n",
       "3  49.0             0              0             1          0   \n",
       "4  79.0             1              0             1          1   \n",
       "\n",
       "   avg_glucose_level   bmi  smoking_status  stroke  \n",
       "0             228.69  36.6               0       1  \n",
       "1             202.21  28.1               1       1  \n",
       "2             105.92  32.5               0       1  \n",
       "3             171.23  34.4               0       1  \n",
       "4             174.12  24.0               1       1  "
      ]
     },
     "execution_count": 95,
     "metadata": {},
     "output_type": "execute_result"
    }
   ],
   "source": [
    "df.head()"
   ]
  },
  {
   "cell_type": "code",
   "execution_count": 96,
   "id": "44448ee6",
   "metadata": {},
   "outputs": [],
   "source": [
    "## here we dont need to do encoding as the variables are already in interger forms"
   ]
  },
  {
   "cell_type": "code",
   "execution_count": 97,
   "id": "79ce70f7",
   "metadata": {},
   "outputs": [],
   "source": [
    "X=df.drop(['stroke'],axis=1)\n",
    "y=df['stroke']\n"
   ]
  },
  {
   "cell_type": "code",
   "execution_count": 98,
   "id": "e1457059",
   "metadata": {},
   "outputs": [
    {
     "data": {
      "text/html": [
       "<div>\n",
       "<style scoped>\n",
       "    .dataframe tbody tr th:only-of-type {\n",
       "        vertical-align: middle;\n",
       "    }\n",
       "\n",
       "    .dataframe tbody tr th {\n",
       "        vertical-align: top;\n",
       "    }\n",
       "\n",
       "    .dataframe thead th {\n",
       "        text-align: right;\n",
       "    }\n",
       "</style>\n",
       "<table border=\"1\" class=\"dataframe\">\n",
       "  <thead>\n",
       "    <tr style=\"text-align: right;\">\n",
       "      <th></th>\n",
       "      <th>age</th>\n",
       "      <th>hypertension</th>\n",
       "      <th>heart_disease</th>\n",
       "      <th>ever_married</th>\n",
       "      <th>work_type</th>\n",
       "      <th>avg_glucose_level</th>\n",
       "      <th>bmi</th>\n",
       "      <th>smoking_status</th>\n",
       "    </tr>\n",
       "  </thead>\n",
       "  <tbody>\n",
       "    <tr>\n",
       "      <th>0</th>\n",
       "      <td>67.0</td>\n",
       "      <td>0</td>\n",
       "      <td>1</td>\n",
       "      <td>1</td>\n",
       "      <td>0</td>\n",
       "      <td>228.69</td>\n",
       "      <td>36.6</td>\n",
       "      <td>0</td>\n",
       "    </tr>\n",
       "    <tr>\n",
       "      <th>1</th>\n",
       "      <td>61.0</td>\n",
       "      <td>0</td>\n",
       "      <td>0</td>\n",
       "      <td>1</td>\n",
       "      <td>1</td>\n",
       "      <td>202.21</td>\n",
       "      <td>28.1</td>\n",
       "      <td>1</td>\n",
       "    </tr>\n",
       "    <tr>\n",
       "      <th>2</th>\n",
       "      <td>80.0</td>\n",
       "      <td>0</td>\n",
       "      <td>1</td>\n",
       "      <td>1</td>\n",
       "      <td>0</td>\n",
       "      <td>105.92</td>\n",
       "      <td>32.5</td>\n",
       "      <td>0</td>\n",
       "    </tr>\n",
       "    <tr>\n",
       "      <th>3</th>\n",
       "      <td>49.0</td>\n",
       "      <td>0</td>\n",
       "      <td>0</td>\n",
       "      <td>1</td>\n",
       "      <td>0</td>\n",
       "      <td>171.23</td>\n",
       "      <td>34.4</td>\n",
       "      <td>0</td>\n",
       "    </tr>\n",
       "    <tr>\n",
       "      <th>4</th>\n",
       "      <td>79.0</td>\n",
       "      <td>1</td>\n",
       "      <td>0</td>\n",
       "      <td>1</td>\n",
       "      <td>1</td>\n",
       "      <td>174.12</td>\n",
       "      <td>24.0</td>\n",
       "      <td>1</td>\n",
       "    </tr>\n",
       "  </tbody>\n",
       "</table>\n",
       "</div>"
      ],
      "text/plain": [
       "    age  hypertension  heart_disease  ever_married  work_type  \\\n",
       "0  67.0             0              1             1          0   \n",
       "1  61.0             0              0             1          1   \n",
       "2  80.0             0              1             1          0   \n",
       "3  49.0             0              0             1          0   \n",
       "4  79.0             1              0             1          1   \n",
       "\n",
       "   avg_glucose_level   bmi  smoking_status  \n",
       "0             228.69  36.6               0  \n",
       "1             202.21  28.1               1  \n",
       "2             105.92  32.5               0  \n",
       "3             171.23  34.4               0  \n",
       "4             174.12  24.0               1  "
      ]
     },
     "execution_count": 98,
     "metadata": {},
     "output_type": "execute_result"
    }
   ],
   "source": [
    "X.head()"
   ]
  },
  {
   "cell_type": "code",
   "execution_count": 99,
   "id": "a2a538d6",
   "metadata": {},
   "outputs": [
    {
     "data": {
      "text/plain": [
       "0    1\n",
       "1    1\n",
       "2    1\n",
       "3    1\n",
       "4    1\n",
       "Name: stroke, dtype: int64"
      ]
     },
     "execution_count": 99,
     "metadata": {},
     "output_type": "execute_result"
    }
   ],
   "source": [
    "y.head()"
   ]
  },
  {
   "cell_type": "code",
   "execution_count": 100,
   "id": "cc397b60",
   "metadata": {},
   "outputs": [],
   "source": [
    "from sklearn.model_selection import train_test_split"
   ]
  },
  {
   "cell_type": "code",
   "execution_count": 101,
   "id": "0a97c72d",
   "metadata": {},
   "outputs": [],
   "source": [
    "xtrain,xtest,ytrain,ytest=train_test_split(X,y,test_size=0.3,random_state=10)"
   ]
  },
  {
   "cell_type": "code",
   "execution_count": 102,
   "id": "ca5948ff",
   "metadata": {},
   "outputs": [
    {
     "data": {
      "text/plain": [
       "(3577, 8)"
      ]
     },
     "execution_count": 102,
     "metadata": {},
     "output_type": "execute_result"
    }
   ],
   "source": [
    "xtrain.shape"
   ]
  },
  {
   "cell_type": "code",
   "execution_count": 103,
   "id": "2aed884d",
   "metadata": {},
   "outputs": [
    {
     "data": {
      "text/plain": [
       "(1533, 8)"
      ]
     },
     "execution_count": 103,
     "metadata": {},
     "output_type": "execute_result"
    }
   ],
   "source": [
    "xtest.shape"
   ]
  },
  {
   "cell_type": "code",
   "execution_count": 104,
   "id": "809ee6b1",
   "metadata": {},
   "outputs": [
    {
     "data": {
      "text/plain": [
       "(3577,)"
      ]
     },
     "execution_count": 104,
     "metadata": {},
     "output_type": "execute_result"
    }
   ],
   "source": [
    "ytrain.shape"
   ]
  },
  {
   "cell_type": "code",
   "execution_count": 105,
   "id": "7f01d7a5",
   "metadata": {},
   "outputs": [
    {
     "data": {
      "text/plain": [
       "(1533,)"
      ]
     },
     "execution_count": 105,
     "metadata": {},
     "output_type": "execute_result"
    }
   ],
   "source": [
    "ytest.shape"
   ]
  },
  {
   "cell_type": "code",
   "execution_count": 106,
   "id": "d7013032",
   "metadata": {},
   "outputs": [
    {
     "data": {
      "text/plain": [
       "0    95.27537\n",
       "1     4.72463\n",
       "Name: stroke, dtype: float64"
      ]
     },
     "execution_count": 106,
     "metadata": {},
     "output_type": "execute_result"
    }
   ],
   "source": [
    "ytrain.value_counts()/len(ytrain)*100"
   ]
  },
  {
   "cell_type": "code",
   "execution_count": 107,
   "id": "1eee5083",
   "metadata": {},
   "outputs": [
    {
     "data": {
      "text/plain": [
       "0    94.781474\n",
       "1     5.218526\n",
       "Name: stroke, dtype: float64"
      ]
     },
     "execution_count": 107,
     "metadata": {},
     "output_type": "execute_result"
    }
   ],
   "source": [
    "ytest.value_counts()/len(ytest)*100"
   ]
  },
  {
   "cell_type": "code",
   "execution_count": 108,
   "id": "21aa5abd",
   "metadata": {},
   "outputs": [],
   "source": [
    "# the data is highly imbalance"
   ]
  },
  {
   "cell_type": "code",
   "execution_count": 109,
   "id": "06e0c89c",
   "metadata": {},
   "outputs": [],
   "source": [
    "## we will use SMOTE technique for making it balance data"
   ]
  },
  {
   "cell_type": "code",
   "execution_count": 110,
   "id": "af58deb5",
   "metadata": {},
   "outputs": [],
   "source": [
    "from imblearn.over_sampling import SMOTE"
   ]
  },
  {
   "cell_type": "code",
   "execution_count": 111,
   "id": "2e72940d",
   "metadata": {},
   "outputs": [],
   "source": [
    "smote=SMOTE(sampling_strategy=0.3)"
   ]
  },
  {
   "cell_type": "code",
   "execution_count": 112,
   "id": "edea3d82",
   "metadata": {},
   "outputs": [],
   "source": [
    "new_xtrain,new_ytrain=smote.fit_resample(xtrain,ytrain)"
   ]
  },
  {
   "cell_type": "code",
   "execution_count": 113,
   "id": "73cb48b7",
   "metadata": {},
   "outputs": [
    {
     "data": {
      "text/plain": [
       "0    76.930023\n",
       "1    23.069977\n",
       "Name: stroke, dtype: float64"
      ]
     },
     "execution_count": 113,
     "metadata": {},
     "output_type": "execute_result"
    }
   ],
   "source": [
    "new_ytrain.value_counts()/len(new_ytrain)*100"
   ]
  },
  {
   "cell_type": "code",
   "execution_count": 114,
   "id": "07226f31",
   "metadata": {},
   "outputs": [],
   "source": [
    "## we have got balanaced data by using Smote technique."
   ]
  },
  {
   "cell_type": "markdown",
   "id": "5cba6942",
   "metadata": {},
   "source": [
    "#### Model 1"
   ]
  },
  {
   "cell_type": "markdown",
   "id": "67b84ac7",
   "metadata": {},
   "source": [
    "### Logistic Regression"
   ]
  },
  {
   "cell_type": "code",
   "execution_count": 115,
   "id": "640c1701",
   "metadata": {},
   "outputs": [],
   "source": [
    "from sklearn.linear_model import LogisticRegression"
   ]
  },
  {
   "cell_type": "code",
   "execution_count": 116,
   "id": "53b7cdc7",
   "metadata": {},
   "outputs": [],
   "source": [
    "from sklearn.metrics import confusion_matrix,accuracy_score,classification_report,recall_score,roc_auc_score,f1_score,precision_score"
   ]
  },
  {
   "cell_type": "code",
   "execution_count": 117,
   "id": "14a33df2",
   "metadata": {},
   "outputs": [
    {
     "name": "stdout",
     "output_type": "stream",
     "text": [
      "0.837471783295711\n",
      "[[952  71]\n",
      " [145 161]]\n",
      "              precision    recall  f1-score   support\n",
      "\n",
      "           0       0.87      0.93      0.90      1023\n",
      "           1       0.69      0.53      0.60       306\n",
      "\n",
      "    accuracy                           0.84      1329\n",
      "   macro avg       0.78      0.73      0.75      1329\n",
      "weighted avg       0.83      0.84      0.83      1329\n",
      "\n"
     ]
    },
    {
     "data": {
      "text/html": [
       "<div>\n",
       "<style scoped>\n",
       "    .dataframe tbody tr th:only-of-type {\n",
       "        vertical-align: middle;\n",
       "    }\n",
       "\n",
       "    .dataframe tbody tr th {\n",
       "        vertical-align: top;\n",
       "    }\n",
       "\n",
       "    .dataframe thead th {\n",
       "        text-align: right;\n",
       "    }\n",
       "</style>\n",
       "<table border=\"1\" class=\"dataframe\">\n",
       "  <thead>\n",
       "    <tr style=\"text-align: right;\">\n",
       "      <th></th>\n",
       "      <th>Model</th>\n",
       "      <th>Accuracy</th>\n",
       "      <th>Recall</th>\n",
       "      <th>Precision</th>\n",
       "      <th>F1 Score</th>\n",
       "      <th>AUC</th>\n",
       "    </tr>\n",
       "  </thead>\n",
       "  <tbody>\n",
       "    <tr>\n",
       "      <th>0</th>\n",
       "      <td>LogisticRegression</td>\n",
       "      <td>0.837472</td>\n",
       "      <td>0.526144</td>\n",
       "      <td>0.693966</td>\n",
       "      <td>0.598513</td>\n",
       "      <td>0.72837</td>\n",
       "    </tr>\n",
       "  </tbody>\n",
       "</table>\n",
       "</div>"
      ],
      "text/plain": [
       "                Model  Accuracy    Recall Precision  F1 Score      AUC\n",
       "0  LogisticRegression  0.837472  0.526144  0.693966  0.598513  0.72837"
      ]
     },
     "execution_count": 117,
     "metadata": {},
     "output_type": "execute_result"
    }
   ],
   "source": [
    "xtrain,xtest,ytrain,ytest=train_test_split(new_xtrain,new_ytrain,test_size=0.3,random_state=1)\n",
    "logreg=LogisticRegression()\n",
    "logreg_pred=logreg.fit(xtrain,ytrain).predict(xtest)\n",
    "print(accuracy_score(ytest,logreg_pred))\n",
    "print(confusion_matrix(ytest,logreg_pred))\n",
    "print(classification_report(ytest,logreg_pred))\n",
    "\n",
    "accuracy    =accuracy_score(ytest,logreg_pred)\n",
    "f1score    =f1_score(ytest,logreg_pred)\n",
    "recall     =recall_score(ytest,logreg_pred)\n",
    "precision   =precision_score(ytest,logreg_pred)\n",
    "auc         = roc_auc_score(ytest,logreg_pred)\n",
    "\n",
    "cols_per = [\"Model\", \"Accuracy\",\"Recall\",\"Precision\",\"F1 Score\",'AUC']\n",
    "result_per = pd.DataFrame(columns = cols_per)\n",
    "\n",
    "model_per = pd.Series({  \"Model\": \"LogisticRegression\",\n",
    "                        \"Accuracy\":accuracy,\n",
    "                        \"Recall\":recall,\n",
    "                        \"Precision\":precision,\n",
    "                        \"F1 Score\":f1score,\n",
    "                        \"AUC\":auc\n",
    "                        })\n",
    "\n",
    "result_per = result_per.append(model_per, ignore_index = True)\n",
    "\n",
    "result_per"
   ]
  },
  {
   "cell_type": "code",
   "execution_count": 118,
   "id": "c2425880",
   "metadata": {},
   "outputs": [
    {
     "name": "stdout",
     "output_type": "stream",
     "text": [
      "              precision    recall  f1-score   support\n",
      "\n",
      "           0       0.87      0.92      0.90      2385\n",
      "           1       0.68      0.55      0.61       716\n",
      "\n",
      "    accuracy                           0.84      3101\n",
      "   macro avg       0.78      0.74      0.75      3101\n",
      "weighted avg       0.83      0.84      0.83      3101\n",
      "\n"
     ]
    }
   ],
   "source": [
    "y_pred_train=logreg.predict(xtrain)\n",
    "print(classification_report(ytrain,y_pred_train))"
   ]
  },
  {
   "cell_type": "markdown",
   "id": "7abb69c1",
   "metadata": {},
   "source": [
    "### Decision tree"
   ]
  },
  {
   "cell_type": "code",
   "execution_count": 119,
   "id": "510a7e20",
   "metadata": {},
   "outputs": [],
   "source": [
    "from sklearn.tree import DecisionTreeClassifier\n",
    "from sklearn.metrics import confusion_matrix,accuracy_score,classification_report,recall_score"
   ]
  },
  {
   "cell_type": "code",
   "execution_count": 120,
   "id": "b35c5a5d",
   "metadata": {},
   "outputs": [
    {
     "name": "stdout",
     "output_type": "stream",
     "text": [
      "0.8818660647103085\n",
      "[[939  84]\n",
      " [ 73 233]]\n",
      "              precision    recall  f1-score   support\n",
      "\n",
      "           0       0.93      0.92      0.92      1023\n",
      "           1       0.74      0.76      0.75       306\n",
      "\n",
      "    accuracy                           0.88      1329\n",
      "   macro avg       0.83      0.84      0.84      1329\n",
      "weighted avg       0.88      0.88      0.88      1329\n",
      "\n"
     ]
    },
    {
     "data": {
      "text/html": [
       "<div>\n",
       "<style scoped>\n",
       "    .dataframe tbody tr th:only-of-type {\n",
       "        vertical-align: middle;\n",
       "    }\n",
       "\n",
       "    .dataframe tbody tr th {\n",
       "        vertical-align: top;\n",
       "    }\n",
       "\n",
       "    .dataframe thead th {\n",
       "        text-align: right;\n",
       "    }\n",
       "</style>\n",
       "<table border=\"1\" class=\"dataframe\">\n",
       "  <thead>\n",
       "    <tr style=\"text-align: right;\">\n",
       "      <th></th>\n",
       "      <th>Model</th>\n",
       "      <th>Accuracy</th>\n",
       "      <th>Recall</th>\n",
       "      <th>Precision</th>\n",
       "      <th>F1 Score</th>\n",
       "      <th>AUC</th>\n",
       "    </tr>\n",
       "  </thead>\n",
       "  <tbody>\n",
       "    <tr>\n",
       "      <th>0</th>\n",
       "      <td>LogisticRegression</td>\n",
       "      <td>0.837472</td>\n",
       "      <td>0.526144</td>\n",
       "      <td>0.693966</td>\n",
       "      <td>0.598513</td>\n",
       "      <td>0.72837</td>\n",
       "    </tr>\n",
       "    <tr>\n",
       "      <th>1</th>\n",
       "      <td>DecisionTree-GINI</td>\n",
       "      <td>0.881866</td>\n",
       "      <td>0.761438</td>\n",
       "      <td>0.735016</td>\n",
       "      <td>0.747994</td>\n",
       "      <td>0.839663</td>\n",
       "    </tr>\n",
       "  </tbody>\n",
       "</table>\n",
       "</div>"
      ],
      "text/plain": [
       "                Model  Accuracy    Recall Precision  F1 Score       AUC\n",
       "0  LogisticRegression  0.837472  0.526144  0.693966  0.598513   0.72837\n",
       "1   DecisionTree-GINI  0.881866  0.761438  0.735016  0.747994  0.839663"
      ]
     },
     "execution_count": 120,
     "metadata": {},
     "output_type": "execute_result"
    }
   ],
   "source": [
    "xtrain,xtest,ytrain,ytest=train_test_split(new_xtrain,new_ytrain,test_size=0.3,random_state=1)\n",
    "dt=DecisionTreeClassifier(random_state=7)\n",
    "dt_pred=dt.fit(xtrain,ytrain).predict(xtest)\n",
    "print(accuracy_score(ytest,dt_pred))\n",
    "print(confusion_matrix(ytest,dt_pred))\n",
    "print(classification_report(ytest,dt_pred))\n",
    "\n",
    "accuracy    =accuracy_score(ytest,dt_pred)\n",
    "f1score    =f1_score(ytest,dt_pred)\n",
    "recall     =recall_score(ytest,dt_pred)\n",
    "precision   =precision_score(ytest,dt_pred)\n",
    "auc         = roc_auc_score(ytest,dt_pred)\n",
    "\n",
    "model_per = pd.Series({  \"Model\": \"DecisionTree-GINI\",\n",
    "                        \"Accuracy\":accuracy,\n",
    "                        \"Recall\":recall,\n",
    "                        \"Precision\":precision,\n",
    "                        \"F1 Score\":f1score,\n",
    "                        \"AUC\":auc\n",
    "                        })\n",
    "\n",
    "result_per = result_per.append(model_per, ignore_index = True)\n",
    "result_per"
   ]
  },
  {
   "cell_type": "code",
   "execution_count": 121,
   "id": "aac66dc5",
   "metadata": {},
   "outputs": [
    {
     "name": "stdout",
     "output_type": "stream",
     "text": [
      "              precision    recall  f1-score   support\n",
      "\n",
      "           0       1.00      1.00      1.00      2385\n",
      "           1       1.00      1.00      1.00       716\n",
      "\n",
      "    accuracy                           1.00      3101\n",
      "   macro avg       1.00      1.00      1.00      3101\n",
      "weighted avg       1.00      1.00      1.00      3101\n",
      "\n"
     ]
    }
   ],
   "source": [
    "y_pred_train=dt.predict(xtrain)\n",
    "print(classification_report(ytrain,y_pred_train))"
   ]
  },
  {
   "cell_type": "code",
   "execution_count": 122,
   "id": "3ab61ed3",
   "metadata": {},
   "outputs": [],
   "source": [
    "## we got over fit condition we will fine tune the training data"
   ]
  },
  {
   "cell_type": "markdown",
   "id": "088df2d8",
   "metadata": {},
   "source": [
    "### Feature Importance"
   ]
  },
  {
   "cell_type": "code",
   "execution_count": 123,
   "id": "7fcc1b60",
   "metadata": {},
   "outputs": [
    {
     "data": {
      "text/html": [
       "<div>\n",
       "<style scoped>\n",
       "    .dataframe tbody tr th:only-of-type {\n",
       "        vertical-align: middle;\n",
       "    }\n",
       "\n",
       "    .dataframe tbody tr th {\n",
       "        vertical-align: top;\n",
       "    }\n",
       "\n",
       "    .dataframe thead th {\n",
       "        text-align: right;\n",
       "    }\n",
       "</style>\n",
       "<table border=\"1\" class=\"dataframe\">\n",
       "  <thead>\n",
       "    <tr style=\"text-align: right;\">\n",
       "      <th></th>\n",
       "      <th>Feature</th>\n",
       "      <th>Importance</th>\n",
       "    </tr>\n",
       "  </thead>\n",
       "  <tbody>\n",
       "    <tr>\n",
       "      <th>0</th>\n",
       "      <td>age</td>\n",
       "      <td>0.390107</td>\n",
       "    </tr>\n",
       "    <tr>\n",
       "      <th>5</th>\n",
       "      <td>avg_glucose_level</td>\n",
       "      <td>0.289531</td>\n",
       "    </tr>\n",
       "    <tr>\n",
       "      <th>6</th>\n",
       "      <td>bmi</td>\n",
       "      <td>0.192447</td>\n",
       "    </tr>\n",
       "    <tr>\n",
       "      <th>3</th>\n",
       "      <td>ever_married</td>\n",
       "      <td>0.043397</td>\n",
       "    </tr>\n",
       "    <tr>\n",
       "      <th>4</th>\n",
       "      <td>work_type</td>\n",
       "      <td>0.029386</td>\n",
       "    </tr>\n",
       "    <tr>\n",
       "      <th>1</th>\n",
       "      <td>hypertension</td>\n",
       "      <td>0.027278</td>\n",
       "    </tr>\n",
       "    <tr>\n",
       "      <th>7</th>\n",
       "      <td>smoking_status</td>\n",
       "      <td>0.016272</td>\n",
       "    </tr>\n",
       "    <tr>\n",
       "      <th>2</th>\n",
       "      <td>heart_disease</td>\n",
       "      <td>0.011582</td>\n",
       "    </tr>\n",
       "  </tbody>\n",
       "</table>\n",
       "</div>"
      ],
      "text/plain": [
       "             Feature  Importance\n",
       "0                age    0.390107\n",
       "5  avg_glucose_level    0.289531\n",
       "6                bmi    0.192447\n",
       "3       ever_married    0.043397\n",
       "4          work_type    0.029386\n",
       "1       hypertension    0.027278\n",
       "7     smoking_status    0.016272\n",
       "2      heart_disease    0.011582"
      ]
     },
     "execution_count": 123,
     "metadata": {},
     "output_type": "execute_result"
    }
   ],
   "source": [
    "feature_imp = pd.DataFrame()\n",
    "feature_imp['Feature']=xtrain.columns\n",
    "feature_imp['Importance']=dt.feature_importances_\n",
    "feature_imp.sort_values(by='Importance',ascending=False)"
   ]
  },
  {
   "cell_type": "code",
   "execution_count": 124,
   "id": "9875f669",
   "metadata": {},
   "outputs": [],
   "source": [
    "x=df[['age','hypertension','heart_disease','avg_glucose_level','bmi']]\n",
    "y=df['stroke']\n",
    "xtrain,xtest,ytrain,ytest=train_test_split(new_xtrain,new_ytrain,test_size=0.3,random_state=1)"
   ]
  },
  {
   "cell_type": "code",
   "execution_count": 125,
   "id": "c8229e85",
   "metadata": {},
   "outputs": [
    {
     "name": "stdout",
     "output_type": "stream",
     "text": [
      "0.8818660647103085\n",
      "[[939  84]\n",
      " [ 73 233]]\n",
      "              precision    recall  f1-score   support\n",
      "\n",
      "           0       0.93      0.92      0.92      1023\n",
      "           1       0.74      0.76      0.75       306\n",
      "\n",
      "    accuracy                           0.88      1329\n",
      "   macro avg       0.83      0.84      0.84      1329\n",
      "weighted avg       0.88      0.88      0.88      1329\n",
      "\n",
      "1.0\n"
     ]
    },
    {
     "data": {
      "text/html": [
       "<div>\n",
       "<style scoped>\n",
       "    .dataframe tbody tr th:only-of-type {\n",
       "        vertical-align: middle;\n",
       "    }\n",
       "\n",
       "    .dataframe tbody tr th {\n",
       "        vertical-align: top;\n",
       "    }\n",
       "\n",
       "    .dataframe thead th {\n",
       "        text-align: right;\n",
       "    }\n",
       "</style>\n",
       "<table border=\"1\" class=\"dataframe\">\n",
       "  <thead>\n",
       "    <tr style=\"text-align: right;\">\n",
       "      <th></th>\n",
       "      <th>Model</th>\n",
       "      <th>Accuracy</th>\n",
       "      <th>Recall</th>\n",
       "      <th>Precision</th>\n",
       "      <th>F1 Score</th>\n",
       "      <th>AUC</th>\n",
       "    </tr>\n",
       "  </thead>\n",
       "  <tbody>\n",
       "    <tr>\n",
       "      <th>0</th>\n",
       "      <td>LogisticRegression</td>\n",
       "      <td>0.837472</td>\n",
       "      <td>0.526144</td>\n",
       "      <td>0.693966</td>\n",
       "      <td>0.598513</td>\n",
       "      <td>0.72837</td>\n",
       "    </tr>\n",
       "    <tr>\n",
       "      <th>1</th>\n",
       "      <td>DecisionTree-GINI</td>\n",
       "      <td>0.881866</td>\n",
       "      <td>0.761438</td>\n",
       "      <td>0.735016</td>\n",
       "      <td>0.747994</td>\n",
       "      <td>0.839663</td>\n",
       "    </tr>\n",
       "    <tr>\n",
       "      <th>2</th>\n",
       "      <td>DecisionTree-FEATUREIMP</td>\n",
       "      <td>0.881866</td>\n",
       "      <td>0.761438</td>\n",
       "      <td>0.735016</td>\n",
       "      <td>0.747994</td>\n",
       "      <td>0.839663</td>\n",
       "    </tr>\n",
       "  </tbody>\n",
       "</table>\n",
       "</div>"
      ],
      "text/plain": [
       "                     Model  Accuracy    Recall Precision  F1 Score       AUC\n",
       "0       LogisticRegression  0.837472  0.526144  0.693966  0.598513   0.72837\n",
       "1        DecisionTree-GINI  0.881866  0.761438  0.735016  0.747994  0.839663\n",
       "2  DecisionTree-FEATUREIMP  0.881866  0.761438  0.735016  0.747994  0.839663"
      ]
     },
     "execution_count": 125,
     "metadata": {},
     "output_type": "execute_result"
    }
   ],
   "source": [
    "dt_fi=DecisionTreeClassifier(random_state=7)\n",
    "dt_pred_IF=dt_fi.fit(xtrain,ytrain).predict(xtest)\n",
    "print(accuracy_score(ytest,dt_pred_IF))\n",
    "print(confusion_matrix(ytest,dt_pred_IF))\n",
    "print(classification_report(ytest,dt_pred_IF))\n",
    "train=dt_fi.predict(xtrain)\n",
    "print(accuracy_score(ytrain,train))\n",
    "\n",
    "accuracy    =accuracy_score(ytest,dt_pred_IF)\n",
    "f1score    =f1_score(ytest,dt_pred_IF)\n",
    "recall     =recall_score(ytest,dt_pred_IF)\n",
    "precision   =precision_score(ytest,dt_pred_IF)\n",
    "auc         = roc_auc_score(ytest,dt_pred_IF)\n",
    "\n",
    "model_per = pd.Series({  \"Model\": \"DecisionTree-FEATUREIMP\",\n",
    "                        \"Accuracy\":accuracy,\n",
    "                        \"Recall\":recall,\n",
    "                        \"Precision\":precision,\n",
    "                        \"F1 Score\":f1score,\n",
    "                        \"AUC\":auc\n",
    "                        })\n",
    "\n",
    "result_per = result_per.append(model_per, ignore_index = True)\n",
    "result_per"
   ]
  },
  {
   "cell_type": "code",
   "execution_count": 126,
   "id": "a78861c4",
   "metadata": {},
   "outputs": [
    {
     "name": "stdout",
     "output_type": "stream",
     "text": [
      "              precision    recall  f1-score   support\n",
      "\n",
      "           0       1.00      1.00      1.00      2385\n",
      "           1       1.00      1.00      1.00       716\n",
      "\n",
      "    accuracy                           1.00      3101\n",
      "   macro avg       1.00      1.00      1.00      3101\n",
      "weighted avg       1.00      1.00      1.00      3101\n",
      "\n"
     ]
    }
   ],
   "source": [
    "y_pred_train=dt_fi.predict(xtrain)\n",
    "print(classification_report(ytrain,y_pred_train))"
   ]
  },
  {
   "cell_type": "markdown",
   "id": "71585ed5",
   "metadata": {},
   "source": [
    "### Grid Search Cv"
   ]
  },
  {
   "cell_type": "code",
   "execution_count": 127,
   "id": "9735da10",
   "metadata": {},
   "outputs": [],
   "source": [
    "from sklearn.model_selection import GridSearchCV"
   ]
  },
  {
   "cell_type": "code",
   "execution_count": 128,
   "id": "7e0b6157",
   "metadata": {},
   "outputs": [],
   "source": [
    "from sklearn.model_selection import GridSearchCV\n",
    "tuned_paramaters = [{'criterion': ['entropy','gini'], \n",
    "                     'max_depth': [2,4,6,8,10,12,14,16,18],\n",
    "                     'min_samples_split':[45,55,65,75,85,95],\n",
    "                     'min_samples_leaf': [15,20,25,30,35,40,45]\n",
    "                     }]\n",
    "dt = DecisionTreeClassifier(random_state = 7)\n",
    "tree_grid = GridSearchCV(estimator = dt,\n",
    "                         param_grid = tuned_paramaters, \n",
    "                         cv = 5)"
   ]
  },
  {
   "cell_type": "code",
   "execution_count": 129,
   "id": "ed2bd669",
   "metadata": {},
   "outputs": [
    {
     "data": {
      "text/plain": [
       "GridSearchCV(cv=5, estimator=DecisionTreeClassifier(random_state=7),\n",
       "             param_grid=[{'criterion': ['entropy', 'gini'],\n",
       "                          'max_depth': [2, 4, 6, 8, 10, 12, 14, 16, 18],\n",
       "                          'min_samples_leaf': [15, 20, 25, 30, 35, 40, 45],\n",
       "                          'min_samples_split': [45, 55, 65, 75, 85, 95]}])"
      ]
     },
     "execution_count": 129,
     "metadata": {},
     "output_type": "execute_result"
    }
   ],
   "source": [
    "xtrain,xtest,ytrain,ytest=train_test_split(new_xtrain,new_ytrain,test_size=0.3,random_state=1)\n",
    "tree_grid.fit(xtrain,ytrain)"
   ]
  },
  {
   "cell_type": "code",
   "execution_count": 130,
   "id": "4b2a0df0",
   "metadata": {},
   "outputs": [
    {
     "data": {
      "text/plain": [
       "{'criterion': 'gini',\n",
       " 'max_depth': 12,\n",
       " 'min_samples_leaf': 15,\n",
       " 'min_samples_split': 55}"
      ]
     },
     "execution_count": 130,
     "metadata": {},
     "output_type": "execute_result"
    }
   ],
   "source": [
    "tree_grid.best_params_"
   ]
  },
  {
   "cell_type": "code",
   "execution_count": 131,
   "id": "7f751e0d",
   "metadata": {},
   "outputs": [
    {
     "name": "stdout",
     "output_type": "stream",
     "text": [
      "0.8555304740406321\n",
      "[[937  86]\n",
      " [106 200]]\n",
      "              precision    recall  f1-score   support\n",
      "\n",
      "           0       0.90      0.92      0.91      1023\n",
      "           1       0.70      0.65      0.68       306\n",
      "\n",
      "    accuracy                           0.86      1329\n",
      "   macro avg       0.80      0.78      0.79      1329\n",
      "weighted avg       0.85      0.86      0.85      1329\n",
      "\n"
     ]
    },
    {
     "data": {
      "text/html": [
       "<div>\n",
       "<style scoped>\n",
       "    .dataframe tbody tr th:only-of-type {\n",
       "        vertical-align: middle;\n",
       "    }\n",
       "\n",
       "    .dataframe tbody tr th {\n",
       "        vertical-align: top;\n",
       "    }\n",
       "\n",
       "    .dataframe thead th {\n",
       "        text-align: right;\n",
       "    }\n",
       "</style>\n",
       "<table border=\"1\" class=\"dataframe\">\n",
       "  <thead>\n",
       "    <tr style=\"text-align: right;\">\n",
       "      <th></th>\n",
       "      <th>Model</th>\n",
       "      <th>Accuracy</th>\n",
       "      <th>Recall</th>\n",
       "      <th>Precision</th>\n",
       "      <th>F1 Score</th>\n",
       "      <th>AUC</th>\n",
       "    </tr>\n",
       "  </thead>\n",
       "  <tbody>\n",
       "    <tr>\n",
       "      <th>0</th>\n",
       "      <td>LogisticRegression</td>\n",
       "      <td>0.837472</td>\n",
       "      <td>0.526144</td>\n",
       "      <td>0.693966</td>\n",
       "      <td>0.598513</td>\n",
       "      <td>0.72837</td>\n",
       "    </tr>\n",
       "    <tr>\n",
       "      <th>1</th>\n",
       "      <td>DecisionTree-GINI</td>\n",
       "      <td>0.881866</td>\n",
       "      <td>0.761438</td>\n",
       "      <td>0.735016</td>\n",
       "      <td>0.747994</td>\n",
       "      <td>0.839663</td>\n",
       "    </tr>\n",
       "    <tr>\n",
       "      <th>2</th>\n",
       "      <td>DecisionTree-FEATUREIMP</td>\n",
       "      <td>0.881866</td>\n",
       "      <td>0.761438</td>\n",
       "      <td>0.735016</td>\n",
       "      <td>0.747994</td>\n",
       "      <td>0.839663</td>\n",
       "    </tr>\n",
       "    <tr>\n",
       "      <th>3</th>\n",
       "      <td>DecisionTree-GRIDSEARCHCV</td>\n",
       "      <td>0.85553</td>\n",
       "      <td>0.653595</td>\n",
       "      <td>0.699301</td>\n",
       "      <td>0.675676</td>\n",
       "      <td>0.784764</td>\n",
       "    </tr>\n",
       "  </tbody>\n",
       "</table>\n",
       "</div>"
      ],
      "text/plain": [
       "                       Model  Accuracy    Recall Precision  F1 Score       AUC\n",
       "0         LogisticRegression  0.837472  0.526144  0.693966  0.598513   0.72837\n",
       "1          DecisionTree-GINI  0.881866  0.761438  0.735016  0.747994  0.839663\n",
       "2    DecisionTree-FEATUREIMP  0.881866  0.761438  0.735016  0.747994  0.839663\n",
       "3  DecisionTree-GRIDSEARCHCV   0.85553  0.653595  0.699301  0.675676  0.784764"
      ]
     },
     "execution_count": 131,
     "metadata": {},
     "output_type": "execute_result"
    }
   ],
   "source": [
    "dt_grid_model = DecisionTreeClassifier(criterion = 'entropy', \n",
    "                                  max_depth =14,\n",
    "                                  min_samples_leaf=15,\n",
    "                                  min_samples_split=45,     \n",
    "                                  random_state = 7)\n",
    "dt_pred_cv=dt_grid_model.fit(xtrain,ytrain).predict(xtest)\n",
    "print(accuracy_score(ytest,dt_pred_cv))\n",
    "print(confusion_matrix(ytest,dt_pred_cv))\n",
    "print(classification_report(ytest,dt_pred_cv))\n",
    "\n",
    "accuracy    =accuracy_score(ytest,dt_pred_cv)\n",
    "f1score    =f1_score(ytest,dt_pred_cv)\n",
    "recall     =recall_score(ytest,dt_pred_cv)\n",
    "precision   =precision_score(ytest,dt_pred_cv)\n",
    "auc         = roc_auc_score(ytest,dt_pred_cv)\n",
    "\n",
    "model_per = pd.Series({  \"Model\": \"DecisionTree-GRIDSEARCHCV\",\n",
    "                        \"Accuracy\":accuracy,\n",
    "                        \"Recall\":recall,\n",
    "                        \"Precision\":precision,\n",
    "                        \"F1 Score\":f1score,\n",
    "                        \"AUC\":auc\n",
    "                        })\n",
    "\n",
    "result_per = result_per.append(model_per, ignore_index = True)\n",
    "result_per"
   ]
  },
  {
   "cell_type": "code",
   "execution_count": 132,
   "id": "f5d543f5",
   "metadata": {},
   "outputs": [
    {
     "name": "stdout",
     "output_type": "stream",
     "text": [
      "              precision    recall  f1-score   support\n",
      "\n",
      "           0       0.91      0.94      0.93      2385\n",
      "           1       0.78      0.68      0.73       716\n",
      "\n",
      "    accuracy                           0.88      3101\n",
      "   macro avg       0.85      0.81      0.83      3101\n",
      "weighted avg       0.88      0.88      0.88      3101\n",
      "\n"
     ]
    }
   ],
   "source": [
    "y_pred_train=dt_grid_model.predict(xtrain)\n",
    "print(classification_report(ytrain,y_pred_train))\n"
   ]
  },
  {
   "cell_type": "markdown",
   "id": "e3d3fac5",
   "metadata": {},
   "source": [
    "### Random Forest"
   ]
  },
  {
   "cell_type": "code",
   "execution_count": 133,
   "id": "535f42b7",
   "metadata": {},
   "outputs": [],
   "source": [
    "from sklearn.ensemble import RandomForestClassifier\n",
    "rf=RandomForestClassifier(criterion = 'entropy',max_depth =14,\n",
    "                        min_samples_leaf=15,\n",
    "                        min_samples_split=45,     \n",
    "                        random_state = 7)"
   ]
  },
  {
   "cell_type": "code",
   "execution_count": 134,
   "id": "5bf84957",
   "metadata": {},
   "outputs": [
    {
     "name": "stdout",
     "output_type": "stream",
     "text": [
      "0.8630549285176825\n",
      "[[970  53]\n",
      " [129 177]]\n",
      "              precision    recall  f1-score   support\n",
      "\n",
      "           0       0.88      0.95      0.91      1023\n",
      "           1       0.77      0.58      0.66       306\n",
      "\n",
      "    accuracy                           0.86      1329\n",
      "   macro avg       0.83      0.76      0.79      1329\n",
      "weighted avg       0.86      0.86      0.86      1329\n",
      "\n"
     ]
    },
    {
     "data": {
      "text/html": [
       "<div>\n",
       "<style scoped>\n",
       "    .dataframe tbody tr th:only-of-type {\n",
       "        vertical-align: middle;\n",
       "    }\n",
       "\n",
       "    .dataframe tbody tr th {\n",
       "        vertical-align: top;\n",
       "    }\n",
       "\n",
       "    .dataframe thead th {\n",
       "        text-align: right;\n",
       "    }\n",
       "</style>\n",
       "<table border=\"1\" class=\"dataframe\">\n",
       "  <thead>\n",
       "    <tr style=\"text-align: right;\">\n",
       "      <th></th>\n",
       "      <th>Model</th>\n",
       "      <th>Accuracy</th>\n",
       "      <th>Recall</th>\n",
       "      <th>Precision</th>\n",
       "      <th>F1 Score</th>\n",
       "      <th>AUC</th>\n",
       "    </tr>\n",
       "  </thead>\n",
       "  <tbody>\n",
       "    <tr>\n",
       "      <th>0</th>\n",
       "      <td>LogisticRegression</td>\n",
       "      <td>0.837472</td>\n",
       "      <td>0.526144</td>\n",
       "      <td>0.693966</td>\n",
       "      <td>0.598513</td>\n",
       "      <td>0.72837</td>\n",
       "    </tr>\n",
       "    <tr>\n",
       "      <th>1</th>\n",
       "      <td>DecisionTree-GINI</td>\n",
       "      <td>0.881866</td>\n",
       "      <td>0.761438</td>\n",
       "      <td>0.735016</td>\n",
       "      <td>0.747994</td>\n",
       "      <td>0.839663</td>\n",
       "    </tr>\n",
       "    <tr>\n",
       "      <th>2</th>\n",
       "      <td>DecisionTree-FEATUREIMP</td>\n",
       "      <td>0.881866</td>\n",
       "      <td>0.761438</td>\n",
       "      <td>0.735016</td>\n",
       "      <td>0.747994</td>\n",
       "      <td>0.839663</td>\n",
       "    </tr>\n",
       "    <tr>\n",
       "      <th>3</th>\n",
       "      <td>DecisionTree-GRIDSEARCHCV</td>\n",
       "      <td>0.85553</td>\n",
       "      <td>0.653595</td>\n",
       "      <td>0.699301</td>\n",
       "      <td>0.675676</td>\n",
       "      <td>0.784764</td>\n",
       "    </tr>\n",
       "    <tr>\n",
       "      <th>4</th>\n",
       "      <td>RandomForest</td>\n",
       "      <td>0.863055</td>\n",
       "      <td>0.578431</td>\n",
       "      <td>0.769565</td>\n",
       "      <td>0.660448</td>\n",
       "      <td>0.763311</td>\n",
       "    </tr>\n",
       "  </tbody>\n",
       "</table>\n",
       "</div>"
      ],
      "text/plain": [
       "                       Model  Accuracy    Recall Precision  F1 Score       AUC\n",
       "0         LogisticRegression  0.837472  0.526144  0.693966  0.598513   0.72837\n",
       "1          DecisionTree-GINI  0.881866  0.761438  0.735016  0.747994  0.839663\n",
       "2    DecisionTree-FEATUREIMP  0.881866  0.761438  0.735016  0.747994  0.839663\n",
       "3  DecisionTree-GRIDSEARCHCV   0.85553  0.653595  0.699301  0.675676  0.784764\n",
       "4               RandomForest  0.863055  0.578431  0.769565  0.660448  0.763311"
      ]
     },
     "execution_count": 134,
     "metadata": {},
     "output_type": "execute_result"
    }
   ],
   "source": [
    "xtrain,xtest,ytrain,ytest=train_test_split(new_xtrain,new_ytrain,test_size=0.3,random_state=1)\n",
    "rf_pred=rf.fit(xtrain,ytrain).predict(xtest)\n",
    "print(accuracy_score(ytest,rf_pred))\n",
    "print(confusion_matrix(ytest,rf_pred))\n",
    "print(classification_report(ytest,rf_pred))\n",
    "\n",
    "\n",
    "accuracy    =accuracy_score(ytest,rf_pred)\n",
    "f1score    =f1_score(ytest,rf_pred)\n",
    "recall     =recall_score(ytest,rf_pred)\n",
    "precision   =precision_score(ytest,rf_pred)\n",
    "auc         = roc_auc_score(ytest,rf_pred)\n",
    "\n",
    "model_per = pd.Series({  \"Model\": \"RandomForest\",\n",
    "                        \"Accuracy\":accuracy,\n",
    "                        \"Recall\":recall,\n",
    "                        \"Precision\":precision,\n",
    "                        \"F1 Score\":f1score,\n",
    "                        \"AUC\":auc\n",
    "                        })\n",
    "\n",
    "result_per = result_per.append(model_per, ignore_index = True)\n",
    "result_per"
   ]
  },
  {
   "cell_type": "code",
   "execution_count": 135,
   "id": "55bb24fd",
   "metadata": {
    "scrolled": true
   },
   "outputs": [
    {
     "name": "stdout",
     "output_type": "stream",
     "text": [
      "              precision    recall  f1-score   support\n",
      "\n",
      "           0       0.90      0.96      0.93      2385\n",
      "           1       0.82      0.63      0.71       716\n",
      "\n",
      "    accuracy                           0.88      3101\n",
      "   macro avg       0.86      0.79      0.82      3101\n",
      "weighted avg       0.88      0.88      0.88      3101\n",
      "\n"
     ]
    }
   ],
   "source": [
    "y_pred_train=rf.predict(xtrain)\n",
    "print(classification_report(ytrain,y_pred_train))"
   ]
  },
  {
   "cell_type": "code",
   "execution_count": 136,
   "id": "cc0b2e40",
   "metadata": {},
   "outputs": [],
   "source": [
    "### the training data is not in overfit model.\n",
    "### Decision tree, feature importance went into over fit model so we did hyperparameter \n",
    "### after that and we made our training data come out of overfit model\n",
    "### The highest accuracy we got by doing Random Forest as decision tree feature selection training data went overfit\n",
    "### so we are considering random forest as our best model here."
   ]
  }
 ],
 "metadata": {
  "kernelspec": {
   "display_name": "Python 3 (ipykernel)",
   "language": "python",
   "name": "python3"
  },
  "language_info": {
   "codemirror_mode": {
    "name": "ipython",
    "version": 3
   },
   "file_extension": ".py",
   "mimetype": "text/x-python",
   "name": "python",
   "nbconvert_exporter": "python",
   "pygments_lexer": "ipython3",
   "version": "3.9.12"
  }
 },
 "nbformat": 4,
 "nbformat_minor": 5
}
